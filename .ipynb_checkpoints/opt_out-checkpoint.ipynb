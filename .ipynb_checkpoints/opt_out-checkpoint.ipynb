{
 "cells": [
  {
   "cell_type": "markdown",
   "id": "4927147b",
   "metadata": {},
   "source": [
    "## Submission\n",
    "1. A function/method that connects to a GIS server and returns an active connection - return connection object. Since the API is essentially staleless, it may be a good idea to have your functions return objects that you wish to persist outside of the current scope.\n",
    "\n",
    "2.  Choose a geography that you're interested and have that sufficient cases/geographic area to make an interesting visualization. \n",
    "\n",
    "3. Create 2 maps of your chosen geography - perhaps a chrppleth map using a map classification technique (classification method). Consider making functions where it makes sense. [example](https://developers.arcgis.com/python/sample-notebooks/covid19-part1-mapping-the-pandemic/)\n",
    "\n",
    "4. Create some charts/visualizations using pandas of the data for your selected region and a temporal timefram if your data permits. Consider making functions where it makes sense/\n",
    "\n",
    "5. Make sure all functions handle errors and fail cleanly\n",
    "\n",
    "6. Make sure your code is well-commented and documented\n",
    "\n",
    "7. Include a README file explaining your submission and listing any required dependencies, issues encountered, etc\n",
    "\n",
    "**DUE:** Sept 5th. 2021\n"
   ]
  },
  {
   "cell_type": "markdown",
   "id": "08df8d59",
   "metadata": {},
   "source": [
    "### 1. Connection Object"
   ]
  },
  {
   "cell_type": "code",
   "execution_count": 45,
   "id": "90bdfdc2-5e79-411b-ae47-79b9837390cf",
   "metadata": {},
   "outputs": [],
   "source": [
    "from arcgis.gis import GIS"
   ]
  },
  {
   "cell_type": "code",
   "execution_count": 2,
   "id": "a92453ee",
   "metadata": {},
   "outputs": [],
   "source": [
    "def reg_gis():\n",
    "    \"\"\"\n",
    "    Connect to the GIS server and return the connection object. \n",
    "    \"\"\"\n",
    "    gis = GIS(\"https://utoronto.maps.arcgis.com\",client_id=\"spmqXXX6tLDgMYEW\")\n",
    "    print(\"Successfully logged in as \"+ gis.properties.user.username )\n",
    "    return gis"
   ]
  },
  {
   "cell_type": "code",
   "execution_count": 3,
   "id": "18772c43",
   "metadata": {},
   "outputs": [
    {
     "name": "stdout",
     "output_type": "stream",
     "text": [
      "Please sign in to your GIS and paste the code that is obtained below.\n",
      "If a web browser does not automatically open, please navigate to the URL below yourself instead.\n",
      "Opening web browser to navigate to: https://utoronto.maps.arcgis.com/sharing/rest//oauth2/authorize?response_type=code&client_id=spmqXXX6tLDgMYEW&redirect_uri=urn%3Aietf%3Awg%3Aoauth%3A2.0%3Aoob&state=FcqIMJ1aTv6eX4yP8PjkUOBCa0376P\n",
      "Enter code obtained on signing in using SAML: ········\n"
     ]
    },
    {
     "name": "stderr",
     "output_type": "stream",
     "text": [
      "C:\\Users\\irene\\Anaconda3\\lib\\site-packages\\urllib3\\connectionpool.py:1013: InsecureRequestWarning: Unverified HTTPS request is being made to host 'utoronto.maps.arcgis.com'. Adding certificate verification is strongly advised. See: https://urllib3.readthedocs.io/en/latest/advanced-usage.html#ssl-warnings\n",
      "  warnings.warn(\n"
     ]
    },
    {
     "name": "stdout",
     "output_type": "stream",
     "text": [
      "Successfully logged in as jinxiaow_utoronto\n"
     ]
    }
   ],
   "source": [
    "gis = reg_gis()"
   ]
  },
  {
   "cell_type": "markdown",
   "id": "3461bc00",
   "metadata": {},
   "source": [
    "### (gis package exploration)"
   ]
  },
  {
   "cell_type": "code",
   "execution_count": 4,
   "id": "2393c5d9-4c3d-4dc8-8451-0719865c4486",
   "metadata": {
    "scrolled": true
   },
   "outputs": [
    {
     "data": {
      "application/vnd.jupyter.widget-view+json": {
       "model_id": "fdb46df36da540f5ae0371ec6460efa9",
       "version_major": 2,
       "version_minor": 0
      },
      "text/plain": [
       "MapView(layout=Layout(height='400px', width='100%'))"
      ]
     },
     "metadata": {},
     "output_type": "display_data"
    },
    {
     "data": {
      "text/html": [
       "<div class=\"map-static-img-preview-a80561a8-9e79-448a-99b9-509ee8c1d93c\"><img src=\"\"></img></div>"
      ],
      "text/plain": [
       "<IPython.core.display.HTML object>"
      ]
     },
     "metadata": {},
     "output_type": "display_data"
    },
    {
     "data": {
      "text/html": [
       "<div class=\"map-html-embed-preview-a80561a8-9e79-448a-99b9-509ee8c1d93c\"></div>"
      ],
      "text/plain": [
       "<IPython.core.display.HTML object>"
      ]
     },
     "metadata": {},
     "output_type": "display_data"
    }
   ],
   "source": [
    "gis.map('toronto, ontario')"
   ]
  },
  {
   "cell_type": "code",
   "execution_count": 5,
   "id": "e63ea739-53e0-42ab-9d77-02bebcbd481b",
   "metadata": {},
   "outputs": [],
   "source": [
    "toronto_map = gis.map('toronto. ontario')"
   ]
  },
  {
   "cell_type": "code",
   "execution_count": 6,
   "id": "ae3a84ae",
   "metadata": {},
   "outputs": [],
   "source": [
    "toronto_map.zoom\n",
    "toronto_map.rotation = 17.5  # rotate clockwise"
   ]
  },
  {
   "cell_type": "code",
   "execution_count": 7,
   "id": "ec949200",
   "metadata": {},
   "outputs": [
    {
     "data": {
      "application/vnd.jupyter.widget-view+json": {
       "model_id": "0ad3155c2d854909b7d41eab39c497b0",
       "version_major": 2,
       "version_minor": 0
      },
      "text/plain": [
       "MapView(layout=Layout(height='400px', width='100%'))"
      ]
     },
     "metadata": {},
     "output_type": "display_data"
    },
    {
     "data": {
      "text/html": [
       "<div class=\"map-static-img-preview-e3e6a6c4-ce21-49b8-9016-b69a74b30e34\"><img src=\"\"></img></div>"
      ],
      "text/plain": [
       "<IPython.core.display.HTML object>"
      ]
     },
     "metadata": {},
     "output_type": "display_data"
    },
    {
     "data": {
      "text/html": [
       "<div class=\"map-html-embed-preview-e3e6a6c4-ce21-49b8-9016-b69a74b30e34\"></div>"
      ],
      "text/plain": [
       "<IPython.core.display.HTML object>"
      ]
     },
     "metadata": {},
     "output_type": "display_data"
    }
   ],
   "source": [
    "toronto_map"
   ]
  },
  {
   "cell_type": "code",
   "execution_count": 8,
   "id": "25f61dc3",
   "metadata": {},
   "outputs": [
    {
     "data": {
      "text/plain": [
       "{}"
      ]
     },
     "execution_count": 8,
     "metadata": {},
     "output_type": "execute_result"
    }
   ],
   "source": [
    "toronto_map.center"
   ]
  },
  {
   "cell_type": "code",
   "execution_count": 9,
   "id": "62c36180",
   "metadata": {},
   "outputs": [
    {
     "data": {
      "text/plain": [
       "'default'"
      ]
     },
     "execution_count": 9,
     "metadata": {},
     "output_type": "execute_result"
    }
   ],
   "source": [
    "toronto_map.basemap"
   ]
  },
  {
   "cell_type": "code",
   "execution_count": 10,
   "id": "d391ae01",
   "metadata": {},
   "outputs": [
    {
     "data": {
      "text/plain": [
       "{'xmin': -79.58443999999996,\n",
       " 'ymin': 43.44969000000005,\n",
       " 'xmax': -79.18643999999996,\n",
       " 'ymax': 43.84769000000004}"
      ]
     },
     "execution_count": 10,
     "metadata": {},
     "output_type": "execute_result"
    }
   ],
   "source": [
    "toronto_map.extent"
   ]
  },
  {
   "cell_type": "code",
   "execution_count": 11,
   "id": "748b363e",
   "metadata": {},
   "outputs": [
    {
     "data": {
      "application/vnd.jupyter.widget-view+json": {
       "model_id": "0ad3155c2d854909b7d41eab39c497b0",
       "version_major": 2,
       "version_minor": 0
      },
      "text/plain": [
       "MapView(layout=Layout(height='400px', width='100%'))"
      ]
     },
     "metadata": {},
     "output_type": "display_data"
    },
    {
     "data": {
      "text/html": [
       "<div class=\"map-static-img-preview-e3e6a6c4-ce21-49b8-9016-b69a74b30e34\"><img src=\"\"></img></div>"
      ],
      "text/plain": [
       "<IPython.core.display.HTML object>"
      ]
     },
     "metadata": {},
     "output_type": "display_data"
    },
    {
     "data": {
      "text/html": [
       "<div class=\"map-html-embed-preview-e3e6a6c4-ce21-49b8-9016-b69a74b30e34\"></div>"
      ],
      "text/plain": [
       "<IPython.core.display.HTML object>"
      ]
     },
     "metadata": {},
     "output_type": "display_data"
    }
   ],
   "source": [
    "toronto_map.basemap = ('national-geographic')\n",
    "toronto_map"
   ]
  },
  {
   "cell_type": "code",
   "execution_count": 12,
   "id": "4cbb1189",
   "metadata": {
    "scrolled": false
   },
   "outputs": [
    {
     "data": {
      "application/vnd.jupyter.widget-view+json": {
       "model_id": "0ad3155c2d854909b7d41eab39c497b0",
       "version_major": 2,
       "version_minor": 0
      },
      "text/plain": [
       "MapView(layout=Layout(height='400px', width='100%'), mode='3D')"
      ]
     },
     "metadata": {},
     "output_type": "display_data"
    },
    {
     "data": {
      "text/html": [
       "<div class=\"map-static-img-preview-e3e6a6c4-ce21-49b8-9016-b69a74b30e34\"><img src=\"\"></img></div>"
      ],
      "text/plain": [
       "<IPython.core.display.HTML object>"
      ]
     },
     "metadata": {},
     "output_type": "display_data"
    },
    {
     "data": {
      "text/html": [
       "<div class=\"map-html-embed-preview-e3e6a6c4-ce21-49b8-9016-b69a74b30e34\"></div>"
      ],
      "text/plain": [
       "<IPython.core.display.HTML object>"
      ]
     },
     "metadata": {},
     "output_type": "display_data"
    }
   ],
   "source": [
    "toronto_map.basemap = ('national-geographic')\n",
    "toronto_map.mode = \"3D\"\n",
    "toronto_map.zoom = 4\n",
    "toronto_map"
   ]
  },
  {
   "cell_type": "markdown",
   "id": "7cf5d3a7",
   "metadata": {},
   "source": [
    "### 2. Geography that I'm interested in - Virginia, United States"
   ]
  },
  {
   "cell_type": "code",
   "execution_count": 13,
   "id": "b42aa0cf",
   "metadata": {},
   "outputs": [],
   "source": [
    "va_map = gis.map('Virginia')"
   ]
  },
  {
   "cell_type": "code",
   "execution_count": 14,
   "id": "144a9c2e",
   "metadata": {},
   "outputs": [
    {
     "data": {
      "application/vnd.jupyter.widget-view+json": {
       "model_id": "10b78cb0adfb4bfaac31a669897f27e1",
       "version_major": 2,
       "version_minor": 0
      },
      "text/plain": [
       "MapView(layout=Layout(height='400px', width='100%'))"
      ]
     },
     "metadata": {},
     "output_type": "display_data"
    },
    {
     "data": {
      "text/html": [
       "<div class=\"map-static-img-preview-11686872-bc68-437c-91a7-60675dfbfa64\"><img src=\"\"></img></div>"
      ],
      "text/plain": [
       "<IPython.core.display.HTML object>"
      ]
     },
     "metadata": {},
     "output_type": "display_data"
    },
    {
     "data": {
      "text/html": [
       "<div class=\"map-html-embed-preview-11686872-bc68-437c-91a7-60675dfbfa64\"></div>"
      ],
      "text/plain": [
       "<IPython.core.display.HTML object>"
      ]
     },
     "metadata": {},
     "output_type": "display_data"
    }
   ],
   "source": [
    "va_map.basemap = ('national-geographic')\n",
    "va_map.zoom = 7\n",
    "va_map"
   ]
  },
  {
   "cell_type": "code",
   "execution_count": 15,
   "id": "ba2a05f2",
   "metadata": {},
   "outputs": [],
   "source": [
    "va_map.legend = True"
   ]
  },
  {
   "cell_type": "markdown",
   "id": "e89728f9",
   "metadata": {},
   "source": [
    "### 3. Create 2 maps of your chosen geography."
   ]
  },
  {
   "cell_type": "code",
   "execution_count": 16,
   "id": "c5658d93",
   "metadata": {},
   "outputs": [],
   "source": [
    "from arcgis.features import FeatureSet, FeatureCollection"
   ]
  },
  {
   "cell_type": "code",
   "execution_count": 17,
   "id": "00c9a54a",
   "metadata": {},
   "outputs": [
    {
     "data": {
      "text/plain": [
       "[<Item title:\"Urban heat islands for U.S. cities\" type:Imagery Layer owner:TPL_GIS_Support>,\n",
       " <Item title:\"Urban heat islands for U.S. cities-MinPS (0.00)\" type:Imagery Layer owner:lcps_lch20_770124>,\n",
       " <Item title:\"Urban heat islands for U.S. cities - copy\" type:Imagery Layer owner:acalderon_CABQ>]"
      ]
     },
     "execution_count": 17,
     "metadata": {},
     "output_type": "execute_result"
    }
   ],
   "source": [
    "item_lst=gis.content.search(\"Urban heat islands for U.S. cities\",item_type= \"Imagery Layer\", outside_org=True)\n",
    "item_lst"
   ]
  },
  {
   "cell_type": "code",
   "execution_count": 18,
   "id": "4890cfb9",
   "metadata": {},
   "outputs": [],
   "source": [
    "item1 = item_lst[0]"
   ]
  },
  {
   "cell_type": "code",
   "execution_count": 19,
   "id": "868821af",
   "metadata": {},
   "outputs": [
    {
     "data": {
      "text/html": [
       "<div class=\"item_container\" style=\"height: auto; overflow: hidden; border: 1px solid #cfcfcf; border-radius: 2px; background: #f6fafa; line-height: 1.21429em; padding: 10px;\">\n",
       "                    <div class=\"item_left\" style=\"width: 210px; float: left;\">\n",
       "                       <a href='https://utoronto.maps.arcgis.com/home/item.html?id=4f6d72903c9741a6a6ee6349f5393572' target='_blank'>\n",
       "                        <img src='data:image/png;base64,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' width='200' height='133' class=\"itemThumbnail\">\n",
       "                       </a>\n",
       "                    </div>\n",
       "\n",
       "                    <div class=\"item_right\"     style=\"float: none; width: auto; overflow: hidden;\">\n",
       "                        <a href='https://utoronto.maps.arcgis.com/home/item.html?id=4f6d72903c9741a6a6ee6349f5393572' target='_blank'><b>Urban heat islands for U.S. cities</b>\n",
       "                        </a>\n",
       "                        <br/>This image service contains the relative heat severity for every pixel for every city in the United States.  This 30-meter raster was derived from Landsat 8 imagery band 10 (ground-level thermal sensor) from the summers of 2018 and 2019.<img src='https://utoronto.maps.arcgis.com/home/js/jsapi/esri/css/images/item_type_icons/imagery16.png' style=\"vertical-align:middle;\">Imagery Layer by TPL_GIS_Support\n",
       "                        <br/>Last Modified: May 24, 2021\n",
       "                        <br/>1 comments, 145,090 views\n",
       "                    </div>\n",
       "                </div>\n",
       "                "
      ],
      "text/plain": [
       "<Item title:\"Urban heat islands for U.S. cities\" type:Imagery Layer owner:TPL_GIS_Support>"
      ]
     },
     "execution_count": 19,
     "metadata": {},
     "output_type": "execute_result"
    }
   ],
   "source": [
    "item1"
   ]
  },
  {
   "cell_type": "code",
   "execution_count": 20,
   "id": "0b5d63f5",
   "metadata": {},
   "outputs": [],
   "source": [
    "heat_layer = item1.layers[0]"
   ]
  },
  {
   "cell_type": "code",
   "execution_count": 21,
   "id": "a8b21830",
   "metadata": {},
   "outputs": [],
   "source": [
    "va_map1 = gis.map('Virginia')"
   ]
  },
  {
   "cell_type": "code",
   "execution_count": 22,
   "id": "d21871f2",
   "metadata": {},
   "outputs": [],
   "source": [
    "va_map2 = gis.map('Virginia')"
   ]
  },
  {
   "cell_type": "code",
   "execution_count": 23,
   "id": "2f7926d7",
   "metadata": {},
   "outputs": [],
   "source": [
    "va_map1.add_layer(heat_layer)"
   ]
  },
  {
   "cell_type": "markdown",
   "id": "a4f85e66",
   "metadata": {},
   "source": [
    "#### This is an imagery layer rather than classification."
   ]
  },
  {
   "cell_type": "code",
   "execution_count": 24,
   "id": "da424173",
   "metadata": {},
   "outputs": [
    {
     "data": {
      "application/vnd.jupyter.widget-view+json": {
       "model_id": "6fd6057439df41159663bdc6871095bd",
       "version_major": 2,
       "version_minor": 0
      },
      "text/plain": [
       "MapView(layout=Layout(height='400px', width='100%'))"
      ]
     },
     "metadata": {},
     "output_type": "display_data"
    },
    {
     "data": {
      "text/html": [
       "<div class=\"map-static-img-preview-47a41020-c53a-4c76-9fbc-ec60b4cdb7bb\"><img src=\"\"></img></div>"
      ],
      "text/plain": [
       "<IPython.core.display.HTML object>"
      ]
     },
     "metadata": {},
     "output_type": "display_data"
    },
    {
     "data": {
      "text/html": [
       "<div class=\"map-html-embed-preview-47a41020-c53a-4c76-9fbc-ec60b4cdb7bb\"></div>"
      ],
      "text/plain": [
       "<IPython.core.display.HTML object>"
      ]
     },
     "metadata": {},
     "output_type": "display_data"
    }
   ],
   "source": [
    "va_map1.zoom = 8\n",
    "va_map1"
   ]
  },
  {
   "cell_type": "markdown",
   "id": "eb810778",
   "metadata": {},
   "source": [
    "### Find out a choropleth with classification. "
   ]
  },
  {
   "cell_type": "markdown",
   "id": "7a0a9650",
   "metadata": {},
   "source": [
    "#### Classification with GDP in Virginia"
   ]
  },
  {
   "cell_type": "code",
   "execution_count": 25,
   "id": "3430b3f2",
   "metadata": {},
   "outputs": [
    {
     "data": {
      "text/plain": [
       "[<Item title:\"GDP 2019\" type:Feature Layer Collection owner:dianaclavery_uo>,\n",
       " <Item title:\"Hot_Spots_GDP_from_AgricultureForestryFishing_and_Hunting\" type:Feature Layer Collection owner:afulle18_myUTK>,\n",
       " <Item title:\"Gross Domestic Product, 2019\" type:Feature Layer Collection owner:esri_demographics>,\n",
       " <Item title:\"Bureau_of_Economic_Analysis_Gross_Domestic_Product_GDP_2019\" type:Feature Layer Collection owner:DCRAOpenData>,\n",
       " <Item title:\"Bureau of Economic Analysis - Gross Domestic Product (GDP), 2019\" type:Feature Layer Collection owner:esri_demographics>]"
      ]
     },
     "execution_count": 25,
     "metadata": {},
     "output_type": "execute_result"
    }
   ],
   "source": [
    "item_lst2=gis.content.search(\"Bureau of Economic Analysis - Gross Domestic Product (GDP), 2019\",item_type= \"Feature Layer\", outside_org=True)\n",
    "item_lst2"
   ]
  },
  {
   "cell_type": "code",
   "execution_count": 26,
   "id": "897a1f22",
   "metadata": {},
   "outputs": [],
   "source": [
    "gdp_layer = item_lst2[-1]"
   ]
  },
  {
   "cell_type": "code",
   "execution_count": 27,
   "id": "ff770d9f",
   "metadata": {},
   "outputs": [],
   "source": [
    "gdp_layers = gdp_layer.layers"
   ]
  },
  {
   "cell_type": "code",
   "execution_count": 28,
   "id": "0ad5a079",
   "metadata": {},
   "outputs": [
    {
     "data": {
      "text/plain": [
       "[<FeatureLayer url:\"https://services.arcgis.com/P3ePLMYs2RVChkJx/arcgis/rest/services/Bureau_of_Economic_Analysis_Gross_Domestic_Product_GDP_2019/FeatureServer/0\">,\n",
       " <FeatureLayer url:\"https://services.arcgis.com/P3ePLMYs2RVChkJx/arcgis/rest/services/Bureau_of_Economic_Analysis_Gross_Domestic_Product_GDP_2019/FeatureServer/1\">,\n",
       " <FeatureLayer url:\"https://services.arcgis.com/P3ePLMYs2RVChkJx/arcgis/rest/services/Bureau_of_Economic_Analysis_Gross_Domestic_Product_GDP_2019/FeatureServer/2\">,\n",
       " <FeatureLayer url:\"https://services.arcgis.com/P3ePLMYs2RVChkJx/arcgis/rest/services/Bureau_of_Economic_Analysis_Gross_Domestic_Product_GDP_2019/FeatureServer/3\">]"
      ]
     },
     "execution_count": 28,
     "metadata": {},
     "output_type": "execute_result"
    }
   ],
   "source": [
    "gdp_layers"
   ]
  },
  {
   "cell_type": "code",
   "execution_count": 29,
   "id": "bd2e4892",
   "metadata": {},
   "outputs": [
    {
     "name": "stdout",
     "output_type": "stream",
     "text": [
      "Nation\n",
      "Region\n",
      "State\n",
      "County\n"
     ]
    }
   ],
   "source": [
    "for lyr in gdp_layers:\n",
    "    print(lyr.properties.name)"
   ]
  },
  {
   "cell_type": "markdown",
   "id": "cb8da74b",
   "metadata": {},
   "source": [
    "Select the County Layer."
   ]
  },
  {
   "cell_type": "code",
   "execution_count": 30,
   "id": "d694dce2",
   "metadata": {},
   "outputs": [],
   "source": [
    "gdp_layer_county = gdp_layers[3]"
   ]
  },
  {
   "cell_type": "code",
   "execution_count": 31,
   "id": "c9a032e6",
   "metadata": {},
   "outputs": [],
   "source": [
    "gdp_county_df = gdp_layer_county.query(as_df=True)"
   ]
  },
  {
   "cell_type": "code",
   "execution_count": 32,
   "id": "a228cd5f",
   "metadata": {},
   "outputs": [
    {
     "data": {
      "text/plain": [
       "0       Kentucky\n",
       "1       Kentucky\n",
       "2       Kentucky\n",
       "3       Kentucky\n",
       "4       Kentucky\n",
       "          ...   \n",
       "3108    Virginia\n",
       "3109    Virginia\n",
       "3110    Virginia\n",
       "3111    Virginia\n",
       "3112    Virginia\n",
       "Name: State, Length: 3113, dtype: object"
      ]
     },
     "execution_count": 32,
     "metadata": {},
     "output_type": "execute_result"
    }
   ],
   "source": [
    "gdp_county_df['State']"
   ]
  },
  {
   "cell_type": "markdown",
   "id": "ad044e40",
   "metadata": {},
   "source": [
    "Preprocessing for the feature layer -- Create a sub dataframe which contains only data from Virginia."
   ]
  },
  {
   "cell_type": "code",
   "execution_count": 33,
   "id": "e220c3d6",
   "metadata": {},
   "outputs": [],
   "source": [
    "fl_va = gdp_layer_county.query(where=\"State='Virginia'\")"
   ]
  },
  {
   "cell_type": "code",
   "execution_count": 34,
   "id": "a98a8aeb",
   "metadata": {},
   "outputs": [
    {
     "data": {
      "text/plain": [
       "<FeatureSet> 105 features"
      ]
     },
     "execution_count": 34,
     "metadata": {},
     "output_type": "execute_result"
    }
   ],
   "source": [
    "fl_va"
   ]
  },
  {
   "cell_type": "code",
   "execution_count": 35,
   "id": "805322bc",
   "metadata": {},
   "outputs": [
    {
     "data": {
      "text/plain": [
       "[{'name': 'OBJECTID',\n",
       "  'type': 'esriFieldTypeOID',\n",
       "  'alias': 'OBJECTID',\n",
       "  'sqlType': 'sqlTypeOther',\n",
       "  'domain': None,\n",
       "  'defaultValue': None},\n",
       " {'name': 'year_2019_1',\n",
       "  'type': 'esriFieldTypeDouble',\n",
       "  'alias': 'GDP from All Industries (Total)',\n",
       "  'sqlType': 'sqlTypeOther',\n",
       "  'domain': None,\n",
       "  'defaultValue': None,\n",
       "  'description': '{\"value\":\"GDP from all industry total, includes all North American Industry Classification System (NAICS) codes.\", \"fieldValueType\":\"currency\"}'},\n",
       " {'name': 'year_2019_2',\n",
       "  'type': 'esriFieldTypeDouble',\n",
       "  'alias': 'GDP from Private Industries',\n",
       "  'sqlType': 'sqlTypeOther',\n",
       "  'domain': None,\n",
       "  'defaultValue': None,\n",
       "  'description': '{\"value\":\"GDP from all private industries, i.e. everything except government and government enterprises (field: year_2019_83).\", \"fieldValueType\":\"currency\"}'},\n",
       " {'name': 'year_2019_3',\n",
       "  'type': 'esriFieldTypeDouble',\n",
       "  'alias': 'GDP from Agriculture, Forestry, Fishing and Hunting',\n",
       "  'sqlType': 'sqlTypeOther',\n",
       "  'domain': None,\n",
       "  'defaultValue': None,\n",
       "  'description': '{\"value\":\"GDP from North American Industry Classification System (NAICS) 11. Examples include crop production; animal production and aquaculture; forestry and logging; fishing, hunting and trapping; and support activities for agriculture and forestry.\", \"fieldValueType\":\"currency\"}'},\n",
       " {'name': 'year_2019_6',\n",
       "  'type': 'esriFieldTypeDouble',\n",
       "  'alias': 'GDP from Mining, Quarrying, and Oil and Gas Extraction',\n",
       "  'sqlType': 'sqlTypeOther',\n",
       "  'domain': None,\n",
       "  'defaultValue': None,\n",
       "  'description': '{\"value\":\"GDP from North American Industry Classification System (NAICS) 21. Examples include oil and gas extraction; mining (except oil and gas); and support activities for mining.\", \"fieldValueType\":\"currency\"}'},\n",
       " {'name': 'year_2019_10',\n",
       "  'type': 'esriFieldTypeDouble',\n",
       "  'alias': 'GDP from Utilities',\n",
       "  'sqlType': 'sqlTypeOther',\n",
       "  'domain': None,\n",
       "  'defaultValue': None,\n",
       "  'description': '{\"value\":\"GDP from North American Industry Classification System (NAICS) 22. Examples include electric power generation, transmission and distribution; natural gas distribution; and water, sewage and other systems. \", \"fieldValueType\":\"currency\"}'},\n",
       " {'name': 'year_2019_11',\n",
       "  'type': 'esriFieldTypeDouble',\n",
       "  'alias': 'GDP from Construction',\n",
       "  'sqlType': 'sqlTypeOther',\n",
       "  'domain': None,\n",
       "  'defaultValue': None,\n",
       "  'description': '{\"value\":\"GDP from North American Industry Classification System (NAICS) 23. Examples include construction of buildings; heavy and civil engineering construction; and specialty trade contractors such as foundation, structure, and building exterior contractors; building equipment contractors; and building finishing contractors.\", \"fieldValueType\":\"currency\"}'},\n",
       " {'name': 'year_2019_12',\n",
       "  'type': 'esriFieldTypeDouble',\n",
       "  'alias': 'GDP from Manufacturing',\n",
       "  'sqlType': 'sqlTypeOther',\n",
       "  'domain': None,\n",
       "  'defaultValue': None,\n",
       "  'description': '{\"value\":\"GDP from North American Industry Classification System (NAICS) 31-33. Includes both durable and nondurable goods (fields: year_2019_13 and year_2019_25). Examples include food manufacturing; beverage and tobacco manufacturing; textile mills; textile product mills; apparel manufacturing; leather and applied product manufacturing; wood product manufacturing; paper manufacturing; printing and related support activities; petroleum and coal products manufacturing; chemical manufacturing; plastics and rubber products manufacturing; nonmetallic mineral product manufacturing; primary metal manufacturing; fabricated metal product manufacturing; machinery manufacturing; computer and electronic product manufacturing; electrical equipment, appliance, and component manufacturing; transportation equipment manufacturing; and furniture and related product manufacturing.\", \"fieldValueType\":\"currency\"}'},\n",
       " {'name': 'year_2019_13',\n",
       "  'type': 'esriFieldTypeDouble',\n",
       "  'alias': 'GDP from Durable Goods Manufacturing',\n",
       "  'sqlType': 'sqlTypeOther',\n",
       "  'domain': None,\n",
       "  'defaultValue': None,\n",
       "  'description': '{\"value\":\"GDP from North American Industry Classification System (NAICS) 321,327-339. Examples include wood product manufacturing; nonmetalic mineral product manufacturing; primary metal manufacturing; fabricated metal product manufacturing; machinery manufacturing; computer and electronic product manufacturing; electrical equipment, appliance, and component manufacturing; transportation equipment manufacturing; furniture and related product manufacturing; and medical equipment and supplies manufacturing.\", \"fieldValueType\":\"currency\"}'},\n",
       " {'name': 'year_2019_25',\n",
       "  'type': 'esriFieldTypeDouble',\n",
       "  'alias': 'GDP from Nondurable Goods Manufacturing',\n",
       "  'sqlType': 'sqlTypeOther',\n",
       "  'domain': None,\n",
       "  'defaultValue': None,\n",
       "  'description': '{\"value\":\"GDP from North American Industry Classification System (NAICS) 311-316,322-326. Examples include food manufacturing; beverage and tobacco manufacturing; textile mills; textile products; apparel manufacturing; leather and applied product manufacturing; paper manufacturing; printing and related support activities; petroleum and coal products manufacturing; chemical manufacturing; and plastics and rubber products manufacturing.\", \"fieldValueType\":\"currency\"}'},\n",
       " {'name': 'year_2019_34',\n",
       "  'type': 'esriFieldTypeDouble',\n",
       "  'alias': 'GDP from Wholesale Trade',\n",
       "  'sqlType': 'sqlTypeOther',\n",
       "  'domain': None,\n",
       "  'defaultValue': None,\n",
       "  'description': '{\"value\":\"GDP from North American Industry Classification System (NAICS) 42. Examples include merchant wholesalers of motor vehicle and motor vehicle parts and supplies; furniture and home finishing; lumber and other construction; professional and commercial equipment and supplies; metal and mineral (except petroleum); household appliances and electrical and electronic goods; hardware, and plumbing and heating equipment and supplies; machinery, equipment, and supplies; paper and paper product; drugs and druggists\\' sundries; apparel, piece goods, and notions; grocery and related product; farm product raw material; chemical and allied products; petroleum and petroleum products; beer, wine, and distilled alcoholic beverage; and wholesale electronic markets and agents and brokers.\", \"fieldValueType\":\"currency\"}'},\n",
       " {'name': 'year_2019_35',\n",
       "  'type': 'esriFieldTypeDouble',\n",
       "  'alias': 'GDP from Retail Trade',\n",
       "  'sqlType': 'sqlTypeOther',\n",
       "  'domain': None,\n",
       "  'defaultValue': None,\n",
       "  'description': '{\"value\":\"GDP from North American Industry Classification System (NAICS) 44-45. Examples include motor vehicles and parts dealers; furniture and home furnishings stores; electronics and appliance stores; building material and garden equipment and supplies dealers; food and beverage stores; health and personal care stores; gasoline stations; clothing and clothing accessories stores; sporting goods, hobby, musical instrument, and book stores; general merchandise stores; florists; office supplies, stationery, and gift stores; used merchandise stores; and nonstore retailers such as electronic shopping and mail-order houses, vending machine operators, and direct selling establishments.\", \"fieldValueType\":\"currency\"}'},\n",
       " {'name': 'year_2019_36',\n",
       "  'type': 'esriFieldTypeDouble',\n",
       "  'alias': 'GDP from Transportation and Warehousing',\n",
       "  'sqlType': 'sqlTypeOther',\n",
       "  'domain': None,\n",
       "  'defaultValue': None,\n",
       "  'description': '{\"value\":\"GDP from North American Industry Classification System (NAICS) 48-49. Examples include air transportation; rail transportation; water transportation; truck transportation; transit and ground passenger transportation; pipeline transportation; scenic and sightseeing transportation; support activities for transportation; Postal Service; couriers and messengers; and warehousing and storage.\", \"fieldValueType\":\"currency\"}'},\n",
       " {'name': 'year_2019_45',\n",
       "  'type': 'esriFieldTypeDouble',\n",
       "  'alias': 'GDP from Information',\n",
       "  'sqlType': 'sqlTypeOther',\n",
       "  'domain': None,\n",
       "  'defaultValue': None,\n",
       "  'description': '{\"value\":\"GDP from North American Industry Classification System (NAICS) 51. Examples include publishing industries; motion picture and sound recording industries; broadcasting; telecommunications; and data processing, hosting, and related services.\", \"fieldValueType\":\"currency\"}'},\n",
       " {'name': 'year_2019_50',\n",
       "  'type': 'esriFieldTypeDouble',\n",
       "  'alias': 'GDP from Finance, Insurance, Real Estate, Rental, and Leasing',\n",
       "  'sqlType': 'sqlTypeOther',\n",
       "  'domain': None,\n",
       "  'defaultValue': None,\n",
       "  'description': '{\"value\":\"GDP from North American Industry Classification System (NAICS) 52, 53. Includes both finance and insurance (field: year_2019_51) as well as real estate and rental and leasing (field: year_2019_56). Examples include finance and insurance; credit intermediation and related activities; securities, commodities, contracts, and other financial investments and related activities; insurance carriers and related activities; funds, trusts, and other financial vehicles; lessors of real estate; offices of real estate agents and brokers; activities related to real estate; automotive equipment rental and leasing; consumer goods rental; general rental centers; commercial and industrial machinery and equipment rental and leasing; and lessors of nonfinancial intangible assets (except copywrited works).\", \"fieldValueType\":\"currency\"}'},\n",
       " {'name': 'year_2019_51',\n",
       "  'type': 'esriFieldTypeDouble',\n",
       "  'alias': 'GDP from Finance and Insurance',\n",
       "  'sqlType': 'sqlTypeOther',\n",
       "  'domain': None,\n",
       "  'defaultValue': None,\n",
       "  'description': '{\"value\":\"GDP from North American Industry Classification System (NAICS) 52. Examples include finance and insurance; credit intermediation and related activities; securities, commodities, contracts, and other financial investments and related activities; insurance carriers and related activities; and funds, trusts, and other financial vehicles.\", \"fieldValueType\":\"currency\"}'},\n",
       " {'name': 'year_2019_56',\n",
       "  'type': 'esriFieldTypeDouble',\n",
       "  'alias': 'GDP from Real Estate and Rental and Leasing',\n",
       "  'sqlType': 'sqlTypeOther',\n",
       "  'domain': None,\n",
       "  'defaultValue': None,\n",
       "  'description': '{\"value\":\"GDP from North American Industry Classification System (NAICS) 53. Examples include lessors of real estate; offices of real estate agents and brokers; activities related to real estate; automotive equipment rental and leasing; consumer goods rental; general rental centers; commercial and industrial machinery and equipment rental and leasing; and lessors of nonfinancial intangible assets (except copywrited works).\", \"fieldValueType\":\"currency\"}'},\n",
       " {'name': 'year_2019_59',\n",
       "  'type': 'esriFieldTypeDouble',\n",
       "  'alias': 'GDP from Professional and Business Services',\n",
       "  'sqlType': 'sqlTypeOther',\n",
       "  'domain': None,\n",
       "  'defaultValue': None,\n",
       "  'description': '{\"value\":\"GDP from North American Industry Classification System (NAICS) 54, 55, 56. Includes professional, scientific, and technical services (field: year_2019_60); management of companies and enterprises (field: year_2019_64); and administrative and support and waste management and remediation services (field: year_2019_65).\", \"fieldValueType\":\"currency\"}'},\n",
       " {'name': 'year_2019_60',\n",
       "  'type': 'esriFieldTypeDouble',\n",
       "  'alias': 'GDP from Professional, Scientific, and Technical Services',\n",
       "  'sqlType': 'sqlTypeOther',\n",
       "  'domain': None,\n",
       "  'defaultValue': None,\n",
       "  'description': '{\"value\":\"GDP from North American Industry Classification System (NAICS) 54. Examples include legal services; accounting, tax preparation, bookkeeping, and payroll services; architectural, engineering, and related services; specialized design services; computer systems design and related services; management, scientific, and technical consulting services; scientific research and development services; advertising, public relations, and related services; and other professional, scientific, and technical services.\", \"fieldValueType\":\"currency\"}'},\n",
       " {'name': 'year_2019_64',\n",
       "  'type': 'esriFieldTypeDouble',\n",
       "  'alias': 'GDP from Management of Companies and Enterprises',\n",
       "  'sqlType': 'sqlTypeOther',\n",
       "  'domain': None,\n",
       "  'defaultValue': None,\n",
       "  'description': '{\"value\":\"GDP from North American Industry Classification System (NAICS) 55. Examples include management of companies and enterprises such as offices of bank holding companies; offices of other holding companies; and corporate, subsidiary, and regional managing offices.\", \"fieldValueType\":\"currency\"}'},\n",
       " {'name': 'year_2019_65',\n",
       "  'type': 'esriFieldTypeDouble',\n",
       "  'alias': 'GDP from Administrative and Support and Waste Management and Remediation Services',\n",
       "  'sqlType': 'sqlTypeOther',\n",
       "  'domain': None,\n",
       "  'defaultValue': None,\n",
       "  'description': '{\"value\":\"GDP from North American Industry Classification System (NAICS) 56. Examples include office administrative services; facilities support services; employment services; business support services; travel arrangement and reservation services; investigation and security services; services to buildings and dwellings; waste collection; waste treatment and disposal; and remediation and other waste management services.\", \"fieldValueType\":\"currency\"}'},\n",
       " {'name': 'year_2019_68',\n",
       "  'type': 'esriFieldTypeDouble',\n",
       "  'alias': 'GDP from Educational Services, Health Care, and Social Assistance',\n",
       "  'sqlType': 'sqlTypeOther',\n",
       "  'domain': None,\n",
       "  'defaultValue': None,\n",
       "  'description': '{\"value\":\"GDP from North American Industry Classification System (NAICS) 61, 62. Includes both educational services (field: year_2019_69) and health care and social assistance (field: year_2019_70).  Examples include elementary and secondary schools; junior colleges; colleges, universities, and professional schools; business schools and computer and management training; technical and trade schools; other schools and instruction; educational support services; offices of physicians; offices of dentists; offices of other health practitioners; outpatient care centers; medical and diagnostic laboratories; home health care services; other ambulatory health care services; hospitals; nursing and residential care facilities; individual and family social assistance services; community food and housing, and emergency and other relief services; vocational rehabilitation services; and child day care services.\", \"fieldValueType\":\"currency\"}'},\n",
       " {'name': 'year_2019_69',\n",
       "  'type': 'esriFieldTypeDouble',\n",
       "  'alias': 'GDP from Educational Services',\n",
       "  'sqlType': 'sqlTypeOther',\n",
       "  'domain': None,\n",
       "  'defaultValue': None,\n",
       "  'description': '{\"value\":\"GDP from North American Industry Classification System (NAICS) 61. Examples include elementary and secondary schools; junior colleges; colleges, universities, and professional schools; business schools and computer and management training; technical and trade schools; other schools and instruction; and educational support services.\", \"fieldValueType\":\"currency\"}'},\n",
       " {'name': 'year_2019_70',\n",
       "  'type': 'esriFieldTypeDouble',\n",
       "  'alias': 'GDP from Health Care and Social Assistance',\n",
       "  'sqlType': 'sqlTypeOther',\n",
       "  'domain': None,\n",
       "  'defaultValue': None,\n",
       "  'description': '{\"value\":\"GDP from North American Industry Classification System (NAICS) 62. Examples include offices of physicians; offices of dentists; offices of other health practitioners; outpatient care centers; medical and diagnostic laboratories; home health care services; other ambulatory health care services; hospitals; nursing and residential care facilities; individual and family social assistance services; community food and housing, and emergency and other relief services; vocational rehabilitation services; and child day care services.\", \"fieldValueType\":\"currency\"}'},\n",
       " {'name': 'year_2019_75',\n",
       "  'type': 'esriFieldTypeDouble',\n",
       "  'alias': 'GDP from Arts, Entertainment, Recreation, Accommodation, and Food Services',\n",
       "  'sqlType': 'sqlTypeOther',\n",
       "  'domain': None,\n",
       "  'defaultValue': None,\n",
       "  'description': '{\"value\":\"GDP from North American Industry Classification System (NAICS) 71, 72. Includes both art, entertainment, and recreation (field: year_2019_76) and accommodation and food services (field: year_2019_79). Examples include performing arts, spectator sports, and related industries; museums, historical sites, and similar institutions; amusement, gambling, and recreation industries; traveler accommodation; RV (Recreational Vehicle) parks and recreational camps; rooming and boarding houses, dormitories, and workers\\' camps; food services and drinking places; special food services such as caterers and mobile food services; drinking places for alcoholic beverages; and restaurants and other eating places.\", \"fieldValueType\":\"currency\"}'},\n",
       " {'name': 'year_2019_76',\n",
       "  'type': 'esriFieldTypeDouble',\n",
       "  'alias': 'GDP from Arts, Entertainment, and Recreation',\n",
       "  'sqlType': 'sqlTypeOther',\n",
       "  'domain': None,\n",
       "  'defaultValue': None,\n",
       "  'description': '{\"value\":\"GDP from North American Industry Classification System (NAICS) 71. Examples include performing arts, spectator sports, and related industries; museums, historical sites, and similar institutions; and amusement, gambling, and recreation industries.\", \"fieldValueType\":\"currency\"}'},\n",
       " {'name': 'year_2019_79',\n",
       "  'type': 'esriFieldTypeDouble',\n",
       "  'alias': 'GDP from Accommodation and Food Services',\n",
       "  'sqlType': 'sqlTypeOther',\n",
       "  'domain': None,\n",
       "  'defaultValue': None,\n",
       "  'description': '{\"value\":\"GDP from North American Industry Classification System (NAICS) 72. Examples include traveler accommodation; RV (Recreational Vehicle) parks and recreational camps; rooming and boarding houses, dormitories, and workers\\' camps; food services and drinking places; special food services such as caterers and mobile food services; drinking places for alcoholic beverages; and restaurants and other eating places.\", \"fieldValueType\":\"currency\"}'},\n",
       " {'name': 'year_2019_82',\n",
       "  'type': 'esriFieldTypeDouble',\n",
       "  'alias': 'GDP from Other Services (except Government and Government Enterprises)',\n",
       "  'sqlType': 'sqlTypeOther',\n",
       "  'domain': None,\n",
       "  'defaultValue': None,\n",
       "  'description': '{\"value\":\"GDP from North American Industry Classification System (NAICS) 81. Examples include repair and maintenance; personal care services including hair, nail, and skin care services; death care services; dry-cleaning and laundry services; other personal services including pet care (except veterinary) services; religious organizations; grantmaking and giving services; social advocacy organizations; civic and social organizations; business, professional, labor, political, and similar organizations; and hired support activities for private households.\", \"fieldValueType\":\"currency\"}'},\n",
       " {'name': 'year_2019_83',\n",
       "  'type': 'esriFieldTypeDouble',\n",
       "  'alias': 'GDP from Government and Government Enterprises',\n",
       "  'sqlType': 'sqlTypeOther',\n",
       "  'domain': None,\n",
       "  'defaultValue': None,\n",
       "  'description': '{\"value\":\"GDP from government and government enterprises. Includes national defense as well as federal, state, and local government consumption expenditures and gross investment.\", \"fieldValueType\":\"currency\"}'},\n",
       " {'name': 'year_2019_87',\n",
       "  'type': 'esriFieldTypeDouble',\n",
       "  'alias': 'GDP from Natural Resources and Mining',\n",
       "  'sqlType': 'sqlTypeOther',\n",
       "  'domain': None,\n",
       "  'defaultValue': None,\n",
       "  'description': '{\"value\":\"GDP from North American Industry Classification System (NAICS) 11, 21. Includes agriculture, forestry, fishing and hunting; and mining, quarrying, and oil and gas extraction.\", \"fieldValueType\":\"currency\"}'},\n",
       " {'name': 'year_2019_88',\n",
       "  'type': 'esriFieldTypeDouble',\n",
       "  'alias': 'GDP from Trade',\n",
       "  'sqlType': 'sqlTypeOther',\n",
       "  'domain': None,\n",
       "  'defaultValue': None,\n",
       "  'description': '{\"value\":\"GDP from North American Industry Classification System (NAICS) 42, 44-45. Includes both wholesale trade and retail trade.\", \"fieldValueType\":\"currency\"}'},\n",
       " {'name': 'year_2019_89',\n",
       "  'type': 'esriFieldTypeDouble',\n",
       "  'alias': 'GDP from Transportation and Utilities',\n",
       "  'sqlType': 'sqlTypeOther',\n",
       "  'domain': None,\n",
       "  'defaultValue': None,\n",
       "  'description': '{\"value\":\"GDP from North American Industry Classification System (NAICS) 481-493, 22. Examples include air transportation; rail transportation; water transportation; truck transportation; transit and ground passenger transportation; pipeline transportation; scenic and sightseeing transportation; support activities for transportation; Postal Service; couriers and messengers; electric power generation, transmission and distribution; natural gas distribution; and water, sewage and other systems. \", \"fieldValueType\":\"currency\"}'},\n",
       " {'name': 'year_2019_90',\n",
       "  'type': 'esriFieldTypeDouble',\n",
       "  'alias': 'GDP from Manufacturing and Information',\n",
       "  'sqlType': 'sqlTypeOther',\n",
       "  'domain': None,\n",
       "  'defaultValue': None,\n",
       "  'description': '{\"value\":\"GDP from North American Industry Classification System (NAICS) 31-33, 51. Includes manufacturing (field: year_2019_12) and information (field: year_2019_45). Examples include manufacturing of food; beverage and tobacco; textile mills; textile product mills; apparel; leather and applied product; wood product; paper; printing and related support activities; petroleum and coal products; chemical; plastics and rubber products; nonmetallic mineral product; primary metal; fabricated metal product; machinery; computer and electronic product; electrical equipment, appliance, and component; transportation equipment; furniture and related product; publishing industries; motion picture and sound recording industries; broadcasting; telecommunications; and data processing, hosting, and related services.\", \"fieldValueType\":\"currency\"}'},\n",
       " {'name': 'year_2019_91',\n",
       "  'type': 'esriFieldTypeDouble',\n",
       "  'alias': 'GDP from Private Goods-Producing Industries',\n",
       "  'sqlType': 'sqlTypeOther',\n",
       "  'domain': None,\n",
       "  'defaultValue': None,\n",
       "  'description': '{\"value\":\"GDP from North American Industry Classification System (NAICS) 11, 21, 23, 31-33: agriculture, forestry, fishing, and hunting; mining, quarrying, and oil and gas extraction; construction; and manufacturing.\", \"fieldValueType\":\"currency\"}'},\n",
       " {'name': 'year_2019_92',\n",
       "  'type': 'esriFieldTypeDouble',\n",
       "  'alias': 'GDP from Private Services-Providing Industries',\n",
       "  'sqlType': 'sqlTypeOther',\n",
       "  'domain': None,\n",
       "  'defaultValue': None,\n",
       "  'description': '{\"value\":\"GDP from North American Industry Classification System (NAICS) 22, 42, 44-45, 48-49, 51, 52, 53, 54, 55, 56, 61, 62, 71, 72, 81: utilities; wholesale trade; retail trade; transportation and warehousing, excluding Postal Service; information; finance and insurance; real estate, rental, and leasing; professional, scientific, and technical services; management of companies; administrative and support and waste management and remediation services; educational services; health care and social assistance; arts, entertainment, and recreation; accommodation and food services; and other services (except government and government enterprises).\", \"fieldValueType\":\"currency\"}'},\n",
       " {'name': 'County',\n",
       "  'type': 'esriFieldTypeString',\n",
       "  'alias': 'County',\n",
       "  'sqlType': 'sqlTypeOther',\n",
       "  'length': 255,\n",
       "  'domain': None,\n",
       "  'defaultValue': None},\n",
       " {'name': 'State',\n",
       "  'type': 'esriFieldTypeString',\n",
       "  'alias': 'State',\n",
       "  'sqlType': 'sqlTypeOther',\n",
       "  'length': 255,\n",
       "  'domain': None,\n",
       "  'defaultValue': None},\n",
       " {'name': 'Region',\n",
       "  'type': 'esriFieldTypeString',\n",
       "  'alias': 'Region',\n",
       "  'sqlType': 'sqlTypeOther',\n",
       "  'length': 255,\n",
       "  'domain': None,\n",
       "  'defaultValue': None},\n",
       " {'name': 'pct_state_2019_1',\n",
       "  'type': 'esriFieldTypeDouble',\n",
       "  'alias': 'Percent of State GDP from All Industries (Total)',\n",
       "  'sqlType': 'sqlTypeOther',\n",
       "  'domain': None,\n",
       "  'defaultValue': None,\n",
       "  'description': '{\"value\":\"GDP from all industry total, includes all North American Industry Classification System (NAICS) codes.\", \"fieldValueType\":\"percentageOrRatio\"}'},\n",
       " {'name': 'pct_state_2019_2',\n",
       "  'type': 'esriFieldTypeDouble',\n",
       "  'alias': 'Percent of State GDP from Private Industries',\n",
       "  'sqlType': 'sqlTypeOther',\n",
       "  'domain': None,\n",
       "  'defaultValue': None,\n",
       "  'description': '{\"value\":\"GDP from all private industries, i.e. everything except government and government enterprises (field: pct_state_2019_83).\", \"fieldValueType\":\"percentageOrRatio\"}'},\n",
       " {'name': 'pct_state_2019_3',\n",
       "  'type': 'esriFieldTypeDouble',\n",
       "  'alias': 'Percent of State GDP from Agriculture, Forestry, Fishing and Hunting',\n",
       "  'sqlType': 'sqlTypeOther',\n",
       "  'domain': None,\n",
       "  'defaultValue': None,\n",
       "  'description': '{\"value\":\"GDP from North American Industry Classification System (NAICS) 11. Examples include crop production; animal production and aquaculture; forestry and logging; fishing, hunting and trapping; and support activites for agriculture and forestry.\", \"fieldValueType\":\"percentageOrRatio\"}'},\n",
       " {'name': 'pct_state_2019_6',\n",
       "  'type': 'esriFieldTypeDouble',\n",
       "  'alias': 'Percent of State GDP from Mining, Quarrying, and Oil and Gas Extraction',\n",
       "  'sqlType': 'sqlTypeOther',\n",
       "  'domain': None,\n",
       "  'defaultValue': None,\n",
       "  'description': '{\"value\":\"GDP from North American Industry Classification System (NAICS) 21. Examples include oil and gas extraction; mining (except oil and gas); and support actvities for mining.\", \"fieldValueType\":\"percentageOrRatio\"}'},\n",
       " {'name': 'pct_state_2019_10',\n",
       "  'type': 'esriFieldTypeDouble',\n",
       "  'alias': 'Percent of State GDP from Utilities',\n",
       "  'sqlType': 'sqlTypeOther',\n",
       "  'domain': None,\n",
       "  'defaultValue': None,\n",
       "  'description': '{\"value\":\"GDP from North American Industry Classification System (NAICS) 22. Examples include electric power generation, transmission and distribution; natural gas distribution; and water, sewage and other systems. \", \"fieldValueType\":\"percentageOrRatio\"}'},\n",
       " {'name': 'pct_state_2019_11',\n",
       "  'type': 'esriFieldTypeDouble',\n",
       "  'alias': 'Percent of State GDP from Construction',\n",
       "  'sqlType': 'sqlTypeOther',\n",
       "  'domain': None,\n",
       "  'defaultValue': None,\n",
       "  'description': '{\"value\":\"GDP from North American Industry Classification System (NAICS) 23. Examples include construction of buildings; heavy and civil engineering construction; and specialty trade contractors such as foundation, structure, and building exterior contractors; building equipment contractors; and building finishing contractors.\", \"fieldValueType\":\"percentageOrRatio\"}'},\n",
       " {'name': 'pct_state_2019_12',\n",
       "  'type': 'esriFieldTypeDouble',\n",
       "  'alias': 'Percent of State GDP from Manufacturing',\n",
       "  'sqlType': 'sqlTypeOther',\n",
       "  'domain': None,\n",
       "  'defaultValue': None,\n",
       "  'description': '{\"value\":\"GDP from North American Industry Classification System (NAICS) 31-33. Includes both durable and nondurable goods (fields: pct_state_2019_13 and pct_state_2019_25). Examples include food manufacturing; beverage and tobacco manufacturing; textile mills; textile product mills; apparel manufacturing; leather and applied product manufacturing; wood product manufacturing; paper manufacturing; printing and related support activities; petroleum and coal products manufacturing; chemical manufacturing; plastics and rubber products manufacturing; nonmetallic mineral product manufacturing; primary metal manufacturing; fabricated metal product manufacturing; machinery manufacturing; computer and electronic product manufacturing; electrical equipment, appliance, and component manufacturing; transportation equipment manufacturing; and furniture and related product manufacturing.\", \"fieldValueType\":\"percentageOrRatio\"}'},\n",
       " {'name': 'pct_state_2019_13',\n",
       "  'type': 'esriFieldTypeDouble',\n",
       "  'alias': 'Percent of State GDP from Durable Goods Manufacturing',\n",
       "  'sqlType': 'sqlTypeOther',\n",
       "  'domain': None,\n",
       "  'defaultValue': None,\n",
       "  'description': '{\"value\":\"GDP from North American Industry Classification System (NAICS) 321,327-339. Examples include wood product manufacturing; nonmetalic mineral product manufacturing; primary metal manufacturing; fabricated metal product manufacturing; machinery manufacturing; computer and electronic product manufacturing; electrical equipment, appliance, and component manufacturing; transportation equipment manufacturing; furniture and related product manufacturing; and and medical equipment and supplies manufacturing.\", \"fieldValueType\":\"percentageOrRatio\"}'},\n",
       " {'name': 'pct_state_2019_25',\n",
       "  'type': 'esriFieldTypeDouble',\n",
       "  'alias': 'Percent of State GDP from Nondurable Goods Manufacturing',\n",
       "  'sqlType': 'sqlTypeOther',\n",
       "  'domain': None,\n",
       "  'defaultValue': None,\n",
       "  'description': '{\"value\":\"GDP from North American Industry Classification System (NAICS) 311-316,322-326. Examples include food manufacturing; beverage and tobacco manufacturing; textile mills; textile products; apparel manufacturing; leather and applied product manufacturing; paper manufacturing; printing and related support activities; petroleum and coal products manufacturing; chemical manufacturing; and plastics and rubber products manufacturing.\", \"fieldValueType\":\"percentageOrRatio\"}'},\n",
       " {'name': 'pct_state_2019_34',\n",
       "  'type': 'esriFieldTypeDouble',\n",
       "  'alias': 'Percent of State GDP from Wholesale Trade',\n",
       "  'sqlType': 'sqlTypeOther',\n",
       "  'domain': None,\n",
       "  'defaultValue': None,\n",
       "  'description': '{\"value\":\"GDP from North American Industry Classification System (NAICS) 42. Examples include merchant wholesalers of motor vehicle and motor vehicle parts and supplies; furniture and home finishing; lumber and other construction; professional and commercial equipment and supplies; metal and mineral (except petroleum); household appliances and electrical and electronic goods; hardware, and plumbing and heating equipment and supplies; machinery, equipment, and supplies; paper and paper product; drugs and druggists\\' sundries; apparel, piece goods, and notions; grocery and related product; farm product raw material; chemical and allied products; petroleum and petroleum products; beer, wine, and distilled alcoholic beverage; and wholesale electronic markets and agents and brokers.\", \"fieldValueType\":\"percentageOrRatio\"}'},\n",
       " {'name': 'pct_state_2019_35',\n",
       "  'type': 'esriFieldTypeDouble',\n",
       "  'alias': 'Percent of State GDP from Retail Trade',\n",
       "  'sqlType': 'sqlTypeOther',\n",
       "  'domain': None,\n",
       "  'defaultValue': None,\n",
       "  'description': '{\"value\":\"GDP from North American Industry Classification System (NAICS) 44-45. Examples include motor vehicles and parts dealers; furniture and home furnishings stores; electronics and appliance stores; building material and garden equipment and supplies dealers; food and beverage stores; health and personal care stores; gasoline stations; clothing and clothing accessories stores; sporting goods, hobby, musical instrument, and book stores; general merchandise stores; florists; office supplies, stationery, and gift stores; used merchandise stores; and nonstore retailers such as electronic shopping and mail-order houses, vending machine operators, and direct selling establishments.\", \"fieldValueType\":\"percentageOrRatio\"}'},\n",
       " {'name': 'pct_state_2019_36',\n",
       "  'type': 'esriFieldTypeDouble',\n",
       "  'alias': 'Percent of State GDP from Transportation and Warehousing',\n",
       "  'sqlType': 'sqlTypeOther',\n",
       "  'domain': None,\n",
       "  'defaultValue': None,\n",
       "  'description': '{\"value\":\"GDP from North American Industry Classification System (NAICS) 48-49. Examples include air transportation; rail transportation; water transportation; truck transportation; transit and ground passenger transportation; pipeline transportation; scenic and sightseeing transportation; support activities for transportation; Postal Service; couriers and messengers; and warehousing and storage.\", \"fieldValueType\":\"percentageOrRatio\"}'},\n",
       " {'name': 'pct_state_2019_45',\n",
       "  'type': 'esriFieldTypeDouble',\n",
       "  'alias': 'Percent of State GDP from Information',\n",
       "  'sqlType': 'sqlTypeOther',\n",
       "  'domain': None,\n",
       "  'defaultValue': None,\n",
       "  'description': '{\"value\":\"GDP from North American Industry Classification System (NAICS) 51. Examples include publishing industries; motion picture and sound recording industries; broadcasting; telecommunications; and data processing, hosting, and related services.\", \"fieldValueType\":\"percentageOrRatio\"}'},\n",
       " {'name': 'pct_state_2019_50',\n",
       "  'type': 'esriFieldTypeDouble',\n",
       "  'alias': 'Percent of State GDP from Finance, Insurance, Real Estate, Rental, and Leasing',\n",
       "  'sqlType': 'sqlTypeOther',\n",
       "  'domain': None,\n",
       "  'defaultValue': None,\n",
       "  'description': '{\"value\":\"GDP from North American Industry Classification System (NAICS) 52, 53. Includes both finance and insurance (field: pct_state_2019_51) as well as real estate and rental and leasing (field: pct_state_2019_56). Examples include finance and insurance; credit intermediation and related activities; securities, commodities, contracts, and other financial investments and related activities; insurance carriers and related activities; funds, trusts, and other financial vehicles; lessors of real estate; offices of real estate agents and brokers; activities related to real estate; automotive equipment rental and leasing; consumer goods rental; general rental centers; commercial and industrial machinery and equipment rental and leasing; and lessors of nonfinancial intangible assets (except copywrited works).\", \"fieldValueType\":\"percentageOrRatio\"}'},\n",
       " {'name': 'pct_state_2019_51',\n",
       "  'type': 'esriFieldTypeDouble',\n",
       "  'alias': 'Percent of State GDP from Finance and Insurance',\n",
       "  'sqlType': 'sqlTypeOther',\n",
       "  'domain': None,\n",
       "  'defaultValue': None,\n",
       "  'description': '{\"value\":\"GDP from North American Industry Classification System (NAICS) 52. Examples include finance and insurance; credit intermediation and related activities; securities, commodities, contracts, and other financial investments and related activities; insurance carriers and related activities; and funds, trusts, and other financial vehicles.\", \"fieldValueType\":\"percentageOrRatio\"}'},\n",
       " {'name': 'pct_state_2019_56',\n",
       "  'type': 'esriFieldTypeDouble',\n",
       "  'alias': 'Percent of State GDP from Real Estate and Rental and Leasing',\n",
       "  'sqlType': 'sqlTypeOther',\n",
       "  'domain': None,\n",
       "  'defaultValue': None,\n",
       "  'description': '{\"value\":\"GDP from North American Industry Classification System (NAICS) 53. Examples include lessors of real estate; offices of real estate agents and brokers; activities related to real estate; automotive equipment rental and leasing; consumer goods rental; general rental centers; commercial and industrial machinery and equipment rental and leasing; and lessors of nonfinancial intangible assets (except copywrited works).\", \"fieldValueType\":\"percentageOrRatio\"}'},\n",
       " {'name': 'pct_state_2019_59',\n",
       "  'type': 'esriFieldTypeDouble',\n",
       "  'alias': 'Percent of State GDP from Professional and Business Services',\n",
       "  'sqlType': 'sqlTypeOther',\n",
       "  'domain': None,\n",
       "  'defaultValue': None,\n",
       "  'description': '{\"value\":\"GDP from North American Industry Classification System (NAICS) 54, 55, 56. Includes professional, scientific, and technical services (field: pct_state_2019_60); management of companies and enterprises (field: pct_state_2019_64); and administrative and support and waste management and remediation services (field: pct_state_2019_65).\", \"fieldValueType\":\"percentageOrRatio\"}'},\n",
       " {'name': 'pct_state_2019_60',\n",
       "  'type': 'esriFieldTypeDouble',\n",
       "  'alias': 'Percent of State GDP from Professional, Scientific, and Technical Services',\n",
       "  'sqlType': 'sqlTypeOther',\n",
       "  'domain': None,\n",
       "  'defaultValue': None,\n",
       "  'description': '{\"value\":\"GDP from North American Industry Classification System (NAICS) 54. Examples include legal services; accounting, tax preparation, bookkeeping, and payroll services; architectural, engineering, and related services; specialized design services; computer systems design and related services; management, scientific, and technical consulting services; scientific research and development services; advertizing, public relations, and related services; and other professional, scientific, and techncial services.\", \"fieldValueType\":\"percentageOrRatio\"}'},\n",
       " {'name': 'pct_state_2019_64',\n",
       "  'type': 'esriFieldTypeDouble',\n",
       "  'alias': 'Percent of State GDP from Management of Companies and Enterprises',\n",
       "  'sqlType': 'sqlTypeOther',\n",
       "  'domain': None,\n",
       "  'defaultValue': None,\n",
       "  'description': '{\"value\":\"GDP from North American Industry Classification System (NAICS) 55. Examples include management of companies and enterprises such as offices of bank holding companies; offices of other holding companies; and corporate, subsidiary, and regional managing offices.\", \"fieldValueType\":\"percentageOrRatio\"}'},\n",
       " {'name': 'pct_state_2019_65',\n",
       "  'type': 'esriFieldTypeDouble',\n",
       "  'alias': 'Percent of State GDP from Administrative and Support and Waste Management and Remediation Services',\n",
       "  'sqlType': 'sqlTypeOther',\n",
       "  'domain': None,\n",
       "  'defaultValue': None,\n",
       "  'description': '{\"value\":\"GDP from North American Industry Classification System (NAICS) 56. Examples include office administrative services; facilities support services; employment services; business support services; travel arrangement and reservation services; investigation and security services; services to buildings and dwellings; waste collection; waste treatment and disposal; and remediation and other waste management services.\", \"fieldValueType\":\"percentageOrRatio\"}'},\n",
       " {'name': 'pct_state_2019_68',\n",
       "  'type': 'esriFieldTypeDouble',\n",
       "  'alias': 'Percent of State GDP from Educational Services, Health Care, and Social Assistance',\n",
       "  'sqlType': 'sqlTypeOther',\n",
       "  'domain': None,\n",
       "  'defaultValue': None,\n",
       "  'description': '{\"value\":\"GDP from North American Industry Classification System (NAICS) 61, 62. Includes both educational services (field: pct_state_2019_69) and health care and social assistance (field: pct_state_2019_70).  Examples include elementary and secondary schools; junior colleges; colleges, universities, and professional schools; business schools and computer and management training; technical and trade schools; other schools and instruction; educational support services; offices of physicians; offices of dentists; offices of other health practitioners; outpatient care centers; medical and diagnostic laboratories; home health care services; other ambulatory health care services; hospitals; nursing and residential care facilities; individual and family social assistance services; community food and housing, and emergency and other relief services; vocational rehabilitation services; and child day care services.\", \"fieldValueType\":\"percentageOrRatio\"}'},\n",
       " {'name': 'pct_state_2019_69',\n",
       "  'type': 'esriFieldTypeDouble',\n",
       "  'alias': 'Percent of State GDP from Educational Services',\n",
       "  'sqlType': 'sqlTypeOther',\n",
       "  'domain': None,\n",
       "  'defaultValue': None,\n",
       "  'description': '{\"value\":\"GDP from North American Industry Classification System (NAICS) 61. Examples include elementary and secondary schools; junior colleges; colleges, universities, and professional schools; business schools and computer and management training; technical and trade schools; other schools and instruction; and educational support services.\", \"fieldValueType\":\"percentageOrRatio\"}'},\n",
       " {'name': 'pct_state_2019_70',\n",
       "  'type': 'esriFieldTypeDouble',\n",
       "  'alias': 'Percent of State GDP from Health Care and Social Assistance',\n",
       "  'sqlType': 'sqlTypeOther',\n",
       "  'domain': None,\n",
       "  'defaultValue': None,\n",
       "  'description': '{\"value\":\"GDP from North American Industry Classification System (NAICS) 62. Examples include offices of physicians; offices of dentists; offices of other health practitioners; outpatient care centers; medical and diagnostic laboratories; home health care services; other ambulatory health care services; hospitals; nursing and residential care facilities; individual and family social assistance services; community food and housing, and emergency and other relief services; vocational rehabilitation services; and child day care services.\", \"fieldValueType\":\"percentageOrRatio\"}'},\n",
       " {'name': 'pct_state_2019_75',\n",
       "  'type': 'esriFieldTypeDouble',\n",
       "  'alias': 'Percent of State GDP from Arts, Entertainment, Recreation, Accommodation, and Food Services',\n",
       "  'sqlType': 'sqlTypeOther',\n",
       "  'domain': None,\n",
       "  'defaultValue': None,\n",
       "  'description': '{\"value\":\"GDP from North American Industry Classification System (NAICS) 71, 72. Includes both art, entertainment, and recreation (field: pct_state_2019_76) and accomodation and food services (field: pct_state_2019_79). Examples include performing arts, spectator sports, and related industries; museums, historical sites, and similar institutions; amusement, gambling, and recreation industries; traveler accommodation; RV (Recreational Vehicle) parks and recreational camps; rooming and boarding houses, dormitories, and workers\\' camps; food services and drinking places; special food services such as caterers and mobile food services; drinking places for alcoholic beverages; and restaurants and other eating places.\", \"fieldValueType\":\"percentageOrRatio\"}'},\n",
       " {'name': 'pct_state_2019_76',\n",
       "  'type': 'esriFieldTypeDouble',\n",
       "  'alias': 'Percent of State GDP from Arts, Entertainment, and Recreation',\n",
       "  'sqlType': 'sqlTypeOther',\n",
       "  'domain': None,\n",
       "  'defaultValue': None,\n",
       "  'description': '{\"value\":\"GDP from North American Industry Classification System (NAICS) 71. Examples include performing arts, spectator sports, and related industries; museums, historical sites, and similar institutions; and amusement, gambling, and recreation industries.\", \"fieldValueType\":\"percentageOrRatio\"}'},\n",
       " {'name': 'pct_state_2019_79',\n",
       "  'type': 'esriFieldTypeDouble',\n",
       "  'alias': 'Percent of State GDP from Accommodation and Food Services',\n",
       "  'sqlType': 'sqlTypeOther',\n",
       "  'domain': None,\n",
       "  'defaultValue': None,\n",
       "  'description': '{\"value\":\"GDP from North American Industry Classification System (NAICS) 72. Examples include traveler accommodation; RV (Recreational Vehicle) parks and recreational camps; rooming and boarding houses, dormitories, and workers\\' camps; food services and drinking places; special food services such as caterers and mobile food services; drinking places for alcoholic beverages; and restaurants and other eating places.\", \"fieldValueType\":\"percentageOrRatio\"}'},\n",
       " {'name': 'pct_state_2019_82',\n",
       "  'type': 'esriFieldTypeDouble',\n",
       "  'alias': 'Percent of State GDP from Other Services (except Government and Government Enterprises)',\n",
       "  'sqlType': 'sqlTypeOther',\n",
       "  'domain': None,\n",
       "  'defaultValue': None,\n",
       "  'description': '{\"value\":\"GDP from North American Industry Classification System (NAICS) 81. Examples include repair and maintenance; personal care services including hair, nail, and skin care services; death care services; drycleaning and laundry services; other personal services including pet care (except veterinary) services; religious organizations; grantmaking and giving services; social advocacy organizations; civic and social organizations; business, professional, labor, political, and similar organizations; and hired support activities for private households.\", \"fieldValueType\":\"percentageOrRatio\"}'},\n",
       " {'name': 'pct_state_2019_83',\n",
       "  'type': 'esriFieldTypeDouble',\n",
       "  'alias': 'Percent of State GDP from Government and Government Enterprises',\n",
       "  'sqlType': 'sqlTypeOther',\n",
       "  'domain': None,\n",
       "  'defaultValue': None,\n",
       "  'description': '{\"value\":\"GDP from government and government enterprises. Includes national defense as well as federal, state, and local government consumption expenditures and gross investment.\", \"fieldValueType\":\"percentageOrRatio\"}'},\n",
       " {'name': 'pct_state_2019_87',\n",
       "  'type': 'esriFieldTypeDouble',\n",
       "  'alias': 'Percent of State GDP from Natural Resources and Mining',\n",
       "  'sqlType': 'sqlTypeOther',\n",
       "  'domain': None,\n",
       "  'defaultValue': None,\n",
       "  'description': '{\"value\":\"GDP from North American Industry Classification System (NAICS) 11, 21. Includes agriculture, forestry, fishing and hunting; and mining, quarrying, and oil and gas extraction.\", \"fieldValueType\":\"percentageOrRatio\"}'},\n",
       " {'name': 'pct_state_2019_88',\n",
       "  'type': 'esriFieldTypeDouble',\n",
       "  'alias': 'Percent of State GDP from Trade',\n",
       "  'sqlType': 'sqlTypeOther',\n",
       "  'domain': None,\n",
       "  'defaultValue': None,\n",
       "  'description': '{\"value\":\"GDP from North American Industry Classification System (NAICS) 42, 44-45. Includes both wholesale trade and retail trade.\", \"fieldValueType\":\"percentageOrRatio\"}'},\n",
       " {'name': 'pct_state_2019_89',\n",
       "  'type': 'esriFieldTypeDouble',\n",
       "  'alias': 'Percent of State GDP from Transportation and Utilities',\n",
       "  'sqlType': 'sqlTypeOther',\n",
       "  'domain': None,\n",
       "  'defaultValue': None,\n",
       "  'description': '{\"value\":\"GDP from North American Industry Classification System (NAICS) 481-493, 22. Examples include air transportation; rail transportation; water transportation; truck transportation; transit and ground passenger transportation; pipeline transportation; scenic and sightseeing transportation; support activities for transportation; Postal Service; couriers and messengers; electric power generation, transmission and distribution; natural gas distribution; and water, sewage and other systems. \", \"fieldValueType\":\"percentageOrRatio\"}'},\n",
       " {'name': 'pct_state_2019_90',\n",
       "  'type': 'esriFieldTypeDouble',\n",
       "  'alias': 'Percent of State GDP from Manufacturing and Information',\n",
       "  'sqlType': 'sqlTypeOther',\n",
       "  'domain': None,\n",
       "  'defaultValue': None,\n",
       "  'description': '{\"value\":\"GDP from North American Industry Classification System (NAICS) 31-33, 51. Includes manufacturing (field: pct_state_2019_12) and information (field: pct_state_2019_45). Examples include manufacturing of food; beverage and tobacco; textile mills; textile product mills; apparel; leather and applied product; wood product; paper; printing and related support activities; petroleum and coal products; chemical; plastics and rubber products; nonmetallic mineral product; primary metal; fabricated metal product; machinery; computer and electronic product; electrical equipment, appliance, and component; transportation equipment; furniture and related product; publishing industries; motion picture and sound recording industries; broadcasting; telecommunications; and data processing, hosting, and related services.\", \"fieldValueType\":\"percentageOrRatio\"}'},\n",
       " {'name': 'pct_state_2019_91',\n",
       "  'type': 'esriFieldTypeDouble',\n",
       "  'alias': 'Percent of State GDP from Private Goods-Producing Industries',\n",
       "  'sqlType': 'sqlTypeOther',\n",
       "  'domain': None,\n",
       "  'defaultValue': None,\n",
       "  'description': '{\"value\":\"GDP from North American Industry Classification System (NAICS) 11, 21, 23, 31-33: agriculture, forestry, fishing, and hunting; mining, quarrying, and oil and gas extraction; construction; and manufacturing.\", \"fieldValueType\":\"percentageOrRatio\"}'},\n",
       " {'name': 'pct_state_2019_92',\n",
       "  'type': 'esriFieldTypeDouble',\n",
       "  'alias': 'Percent of State GDP from Private Services-Providing Industries',\n",
       "  'sqlType': 'sqlTypeOther',\n",
       "  'domain': None,\n",
       "  'defaultValue': None,\n",
       "  'description': '{\"value\":\"GDP from North American Industry Classification System (NAICS) 22, 42, 44-45, 48-49, 51, 52, 53, 54, 55, 56, 61, 62, 71, 72, 81: utilities; wholesale trade; retail trade; transportation and warehousing, excluding Postal Service; information; finance and insurance; real estate, rental, and leasing; professional, scientific, and technical services; management of companies; administrative and support and waste management and remediation services; educational services; health care and social assistance; arts, entertainment, and recreation; accommodation and food services; and other services (except government and government enterprises).\", \"fieldValueType\":\"percentageOrRatio\"}'},\n",
       " {'name': 'FIPS',\n",
       "  'type': 'esriFieldTypeString',\n",
       "  'alias': 'Geographic Identifier - FIPS Code',\n",
       "  'sqlType': 'sqlTypeOther',\n",
       "  'length': 255,\n",
       "  'domain': None,\n",
       "  'defaultValue': None,\n",
       "  'description': '{\"value\":\"Federal Information Processing Standards (FIPS). A Geographic Identifier, or GEOID is the numeric code used to uniquely identify all administrative/legal and statistical geographic areas for which the Census Bureau tabulates data. Some counties in Virginia and Hawaii have been combined, and FIPS codes in these cases are from the BEA GDP CAGDP2 table.\", \"fieldValueType\":\"uniqueIdentifier\"}'},\n",
       " {'name': 'Shape__Area',\n",
       "  'type': 'esriFieldTypeDouble',\n",
       "  'alias': 'Shape Area',\n",
       "  'sqlType': 'sqlTypeDouble',\n",
       "  'domain': None,\n",
       "  'defaultValue': None,\n",
       "  'description': '{\"value\":\"Shape Area is automatically populated and is a system-generated and system-managed field.\", \"fieldValueType\":\"measurement\"}'},\n",
       " {'name': 'Shape__Length',\n",
       "  'type': 'esriFieldTypeDouble',\n",
       "  'alias': 'Shape Length',\n",
       "  'sqlType': 'sqlTypeDouble',\n",
       "  'domain': None,\n",
       "  'defaultValue': None,\n",
       "  'description': '{\"value\":\"Shape Length is automatically populated and is a system-generated and system-managed field.\", \"fieldValueType\":\"measurement\"}'}]"
      ]
     },
     "execution_count": 35,
     "metadata": {},
     "output_type": "execute_result"
    }
   ],
   "source": [
    "fl_va.fields"
   ]
  },
  {
   "cell_type": "code",
   "execution_count": 36,
   "id": "736bcce7",
   "metadata": {},
   "outputs": [
    {
     "data": {
      "text/plain": [
       "Index(['OBJECTID', 'year_2019_1', 'year_2019_2', 'year_2019_3', 'year_2019_6',\n",
       "       'year_2019_10', 'year_2019_11', 'year_2019_12', 'year_2019_13',\n",
       "       'year_2019_25', 'year_2019_34', 'year_2019_35', 'year_2019_36',\n",
       "       'year_2019_45', 'year_2019_50', 'year_2019_51', 'year_2019_56',\n",
       "       'year_2019_59', 'year_2019_60', 'year_2019_64', 'year_2019_65',\n",
       "       'year_2019_68', 'year_2019_69', 'year_2019_70', 'year_2019_75',\n",
       "       'year_2019_76', 'year_2019_79', 'year_2019_82', 'year_2019_83',\n",
       "       'year_2019_87', 'year_2019_88', 'year_2019_89', 'year_2019_90',\n",
       "       'year_2019_91', 'year_2019_92', 'County', 'State', 'Region',\n",
       "       'pct_state_2019_1', 'pct_state_2019_2', 'pct_state_2019_3',\n",
       "       'pct_state_2019_6', 'pct_state_2019_10', 'pct_state_2019_11',\n",
       "       'pct_state_2019_12', 'pct_state_2019_13', 'pct_state_2019_25',\n",
       "       'pct_state_2019_34', 'pct_state_2019_35', 'pct_state_2019_36',\n",
       "       'pct_state_2019_45', 'pct_state_2019_50', 'pct_state_2019_51',\n",
       "       'pct_state_2019_56', 'pct_state_2019_59', 'pct_state_2019_60',\n",
       "       'pct_state_2019_64', 'pct_state_2019_65', 'pct_state_2019_68',\n",
       "       'pct_state_2019_69', 'pct_state_2019_70', 'pct_state_2019_75',\n",
       "       'pct_state_2019_76', 'pct_state_2019_79', 'pct_state_2019_82',\n",
       "       'pct_state_2019_83', 'pct_state_2019_87', 'pct_state_2019_88',\n",
       "       'pct_state_2019_89', 'pct_state_2019_90', 'pct_state_2019_91',\n",
       "       'pct_state_2019_92', 'FIPS', 'Shape__Area', 'Shape__Length', 'SHAPE'],\n",
       "      dtype='object')"
      ]
     },
     "execution_count": 36,
     "metadata": {},
     "output_type": "execute_result"
    }
   ],
   "source": [
    "fl_va.sdf.columns"
   ]
  },
  {
   "cell_type": "code",
   "execution_count": 60,
   "id": "3d9f73e0",
   "metadata": {},
   "outputs": [],
   "source": [
    "def choropleth_map(va_map,feature_layer,field_name,renderer=\"ClassedSizeRenderer\"):\n",
    "    \"\"\"\n",
    "    Create a choropleth map with a classification method and a selected feature layer. \n",
    "    \n",
    "    Parameters:\n",
    "        va_map: an arcgis MapView object.\n",
    "        feature_layer: the selected feature layer.(make sure only select one specific layer)\n",
    "        field_name: string, indicating the classification feature name. \n",
    "    \"\"\"\n",
    "    va_map.add_layer(feature_layer, { \"type\": \"FeatureLayer\",\n",
    "                       \"renderer\":renderer,\n",
    "                         \"field_name\":field_name})\n",
    "    va_map.legend = True\n",
    "    va_map.zoom = 7\n",
    "    return va_map"
   ]
  },
  {
   "cell_type": "code",
   "execution_count": 61,
   "id": "c69f8444",
   "metadata": {
    "scrolled": true
   },
   "outputs": [
    {
     "data": {
      "application/vnd.jupyter.widget-view+json": {
       "model_id": "19d9601b6d444137ad3580355eca6349",
       "version_major": 2,
       "version_minor": 0
      },
      "text/plain": [
       "MapView(jupyter_target='notebook', layout=Layout(height='400px', width='100%'), legend=True, ready=True)"
      ]
     },
     "metadata": {},
     "output_type": "display_data"
    },
    {
     "data": {
      "text/html": [
       "<div class=\"map-static-img-preview-7a4f8941-bc0f-40d6-aea3-3026acc9c760\"><img src=\"\"></img></div>"
      ],
      "text/plain": [
       "<IPython.core.display.HTML object>"
      ]
     },
     "metadata": {},
     "output_type": "display_data"
    },
    {
     "data": {
      "text/html": [
       "<div class=\"map-html-embed-preview-7a4f8941-bc0f-40d6-aea3-3026acc9c760\"></div>"
      ],
      "text/plain": [
       "<IPython.core.display.HTML object>"
      ]
     },
     "metadata": {},
     "output_type": "display_data"
    }
   ],
   "source": [
    "choropleth_map(va_map2,fl_va,\"year_2019_1\")"
   ]
  },
  {
   "cell_type": "markdown",
   "id": "07e9ef25",
   "metadata": {},
   "source": [
    "#### Virginia Poverty Map \n",
    "[Link](https://vdot.maps.arcgis.com/home/item.html?id=f0f1366788ba48d8a3b426ec5317c01c)"
   ]
  },
  {
   "cell_type": "code",
   "execution_count": 46,
   "id": "815a2aa2",
   "metadata": {},
   "outputs": [
    {
     "data": {
      "text/plain": [
       "[<Item title:\"COVID-19 Vulnerability Index\" type:Feature Layer Collection owner:FairfaxCounty>,\n",
       " <Item title:\"Socioeconomic Status\" type:Feature Layer Collection owner:FairfaxCounty>,\n",
       " <Item title:\"Find_Locations_in_Final_Project_Layers___Farmers_Market\" type:Feature Layer Collection owner:lcps_fhs21_1009902>,\n",
       " <Item title:\"VA Counties with Households Below the FPL_AP_WFL1\" type:Feature Layer Collection owner:azizaprodext>,\n",
       " <Item title:\"SNAP x Poverty Virginia Map_WFL1\" type:Feature Layer Collection owner:ti0381a_AU>,\n",
       " <Item title:\"Virginia County Poverty Map\" type:Feature Layer Collection owner:EsriTrainingSvc>,\n",
       " <Item title:\"Guinea Census and Poverty 1996\" type:Feature Layer Collection owner:PLAN5120_worldmap>,\n",
       " <Item title:\"Guinea Census and Poverty 1996\" type:Feature Layer Collection owner:PLAN5120_worldmap>]"
      ]
     },
     "execution_count": 46,
     "metadata": {},
     "output_type": "execute_result"
    }
   ],
   "source": [
    "item_lst3=gis.content.search(\"Virginia Poverty Map\",item_type= \"Feature Layer\", outside_org=True)\n",
    "item_lst3"
   ]
  },
  {
   "cell_type": "code",
   "execution_count": 47,
   "id": "a1476434",
   "metadata": {},
   "outputs": [],
   "source": [
    "poverty_layer = item_lst3[-3]"
   ]
  },
  {
   "cell_type": "code",
   "execution_count": 48,
   "id": "86116bd1",
   "metadata": {},
   "outputs": [],
   "source": [
    "poverty_layer = poverty_layer.layers"
   ]
  },
  {
   "cell_type": "code",
   "execution_count": 49,
   "id": "c2301f5d",
   "metadata": {},
   "outputs": [
    {
     "data": {
      "text/plain": [
       "[<FeatureLayer url:\"https://services.arcgis.com/ue9rwulIoeLEI9bj/arcgis/rest/services/Virginia_County_Poverty_Map/FeatureServer/0\">]"
      ]
     },
     "execution_count": 49,
     "metadata": {},
     "output_type": "execute_result"
    }
   ],
   "source": [
    "poverty_layer"
   ]
  },
  {
   "cell_type": "code",
   "execution_count": 50,
   "id": "2af4764d",
   "metadata": {},
   "outputs": [],
   "source": [
    "poverty_fl = poverty_layer[0]"
   ]
  },
  {
   "cell_type": "code",
   "execution_count": 51,
   "id": "b7d4132c",
   "metadata": {},
   "outputs": [],
   "source": [
    "poverty_df = poverty_fl.query(as_df=True)"
   ]
  },
  {
   "cell_type": "code",
   "execution_count": 52,
   "id": "803c6320",
   "metadata": {},
   "outputs": [
    {
     "data": {
      "text/html": [
       "<div>\n",
       "<style scoped>\n",
       "    .dataframe tbody tr th:only-of-type {\n",
       "        vertical-align: middle;\n",
       "    }\n",
       "\n",
       "    .dataframe tbody tr th {\n",
       "        vertical-align: top;\n",
       "    }\n",
       "\n",
       "    .dataframe thead th {\n",
       "        text-align: right;\n",
       "    }\n",
       "</style>\n",
       "<table border=\"1\" class=\"dataframe\">\n",
       "  <thead>\n",
       "    <tr style=\"text-align: right;\">\n",
       "      <th></th>\n",
       "      <th>OBJECTID</th>\n",
       "      <th>CNTYNAME</th>\n",
       "      <th>STATE_NAME</th>\n",
       "      <th>households_blwpvty</th>\n",
       "      <th>total_households</th>\n",
       "      <th>SqMiles</th>\n",
       "      <th>Shape__Area</th>\n",
       "      <th>Shape__Length</th>\n",
       "      <th>SHAPE</th>\n",
       "    </tr>\n",
       "  </thead>\n",
       "  <tbody>\n",
       "    <tr>\n",
       "      <th>0</th>\n",
       "      <td>1</td>\n",
       "      <td>Lee</td>\n",
       "      <td>Virginia</td>\n",
       "      <td>2385</td>\n",
       "      <td>9282</td>\n",
       "      <td>681.656585</td>\n",
       "      <td>1.765490e+09</td>\n",
       "      <td>259642.587040</td>\n",
       "      <td>{\"rings\": [[[-9225986.8565, 4424240.1496], [-9...</td>\n",
       "    </tr>\n",
       "    <tr>\n",
       "      <th>1</th>\n",
       "      <td>2</td>\n",
       "      <td>Scott</td>\n",
       "      <td>Virginia</td>\n",
       "      <td>1766</td>\n",
       "      <td>9104</td>\n",
       "      <td>840.064740</td>\n",
       "      <td>2.175766e+09</td>\n",
       "      <td>216369.082085</td>\n",
       "      <td>{\"rings\": [[[-9214059.8582, 4411249.2391], [-9...</td>\n",
       "    </tr>\n",
       "    <tr>\n",
       "      <th>2</th>\n",
       "      <td>3</td>\n",
       "      <td>Norton</td>\n",
       "      <td>Virginia</td>\n",
       "      <td>610</td>\n",
       "      <td>1853</td>\n",
       "      <td>11.738998</td>\n",
       "      <td>3.040399e+07</td>\n",
       "      <td>39404.251193</td>\n",
       "      <td>{\"rings\": [[[-9201762.1784, 4427835.9447], [-9...</td>\n",
       "    </tr>\n",
       "    <tr>\n",
       "      <th>3</th>\n",
       "      <td>4</td>\n",
       "      <td>Wise</td>\n",
       "      <td>Virginia</td>\n",
       "      <td>3354</td>\n",
       "      <td>15229</td>\n",
       "      <td>636.004442</td>\n",
       "      <td>1.647251e+09</td>\n",
       "      <td>280284.817849</td>\n",
       "      <td>{\"rings\": [[[-9200210.9219, 4426987.1719], [-9...</td>\n",
       "    </tr>\n",
       "    <tr>\n",
       "      <th>4</th>\n",
       "      <td>5</td>\n",
       "      <td>Russell</td>\n",
       "      <td>Virginia</td>\n",
       "      <td>1971</td>\n",
       "      <td>10919</td>\n",
       "      <td>747.642047</td>\n",
       "      <td>1.936392e+09</td>\n",
       "      <td>249027.028653</td>\n",
       "      <td>{\"rings\": [[[-9146273.0763, 4444642.6007], [-9...</td>\n",
       "    </tr>\n",
       "  </tbody>\n",
       "</table>\n",
       "</div>"
      ],
      "text/plain": [
       "   OBJECTID CNTYNAME STATE_NAME  households_blwpvty  total_households  \\\n",
       "0         1      Lee   Virginia                2385              9282   \n",
       "1         2    Scott   Virginia                1766              9104   \n",
       "2         3   Norton   Virginia                 610              1853   \n",
       "3         4     Wise   Virginia                3354             15229   \n",
       "4         5  Russell   Virginia                1971             10919   \n",
       "\n",
       "      SqMiles   Shape__Area  Shape__Length  \\\n",
       "0  681.656585  1.765490e+09  259642.587040   \n",
       "1  840.064740  2.175766e+09  216369.082085   \n",
       "2   11.738998  3.040399e+07   39404.251193   \n",
       "3  636.004442  1.647251e+09  280284.817849   \n",
       "4  747.642047  1.936392e+09  249027.028653   \n",
       "\n",
       "                                               SHAPE  \n",
       "0  {\"rings\": [[[-9225986.8565, 4424240.1496], [-9...  \n",
       "1  {\"rings\": [[[-9214059.8582, 4411249.2391], [-9...  \n",
       "2  {\"rings\": [[[-9201762.1784, 4427835.9447], [-9...  \n",
       "3  {\"rings\": [[[-9200210.9219, 4426987.1719], [-9...  \n",
       "4  {\"rings\": [[[-9146273.0763, 4444642.6007], [-9...  "
      ]
     },
     "execution_count": 52,
     "metadata": {},
     "output_type": "execute_result"
    }
   ],
   "source": [
    "poverty_df.head()"
   ]
  },
  {
   "cell_type": "code",
   "execution_count": 54,
   "id": "e2a7dd66",
   "metadata": {},
   "outputs": [],
   "source": [
    "pov_fl_va = poverty_fl.query()"
   ]
  },
  {
   "cell_type": "code",
   "execution_count": 55,
   "id": "27772762",
   "metadata": {},
   "outputs": [
    {
     "data": {
      "text/plain": [
       "[{'name': 'OBJECTID',\n",
       "  'type': 'esriFieldTypeOID',\n",
       "  'alias': 'OBJECTID',\n",
       "  'sqlType': 'sqlTypeOther',\n",
       "  'domain': None,\n",
       "  'defaultValue': None},\n",
       " {'name': 'CNTYNAME',\n",
       "  'type': 'esriFieldTypeString',\n",
       "  'alias': 'County Name',\n",
       "  'sqlType': 'sqlTypeOther',\n",
       "  'length': 32,\n",
       "  'domain': None,\n",
       "  'defaultValue': None},\n",
       " {'name': 'STATE_NAME',\n",
       "  'type': 'esriFieldTypeString',\n",
       "  'alias': 'State Name',\n",
       "  'sqlType': 'sqlTypeOther',\n",
       "  'length': 35,\n",
       "  'domain': None,\n",
       "  'defaultValue': None},\n",
       " {'name': 'households_blwpvty',\n",
       "  'type': 'esriFieldTypeDouble',\n",
       "  'alias': '# Households Below Poverty Level',\n",
       "  'sqlType': 'sqlTypeOther',\n",
       "  'domain': None,\n",
       "  'defaultValue': None},\n",
       " {'name': 'total_households',\n",
       "  'type': 'esriFieldTypeDouble',\n",
       "  'alias': 'Total Households',\n",
       "  'sqlType': 'sqlTypeOther',\n",
       "  'domain': None,\n",
       "  'defaultValue': None},\n",
       " {'name': 'SqMiles',\n",
       "  'type': 'esriFieldTypeDouble',\n",
       "  'alias': 'Square Miles',\n",
       "  'sqlType': 'sqlTypeOther',\n",
       "  'domain': None,\n",
       "  'defaultValue': None},\n",
       " {'name': 'Shape__Area',\n",
       "  'type': 'esriFieldTypeDouble',\n",
       "  'alias': 'Shape__Area',\n",
       "  'sqlType': 'sqlTypeDouble',\n",
       "  'domain': None,\n",
       "  'defaultValue': None},\n",
       " {'name': 'Shape__Length',\n",
       "  'type': 'esriFieldTypeDouble',\n",
       "  'alias': 'Shape__Length',\n",
       "  'sqlType': 'sqlTypeDouble',\n",
       "  'domain': None,\n",
       "  'defaultValue': None}]"
      ]
     },
     "execution_count": 55,
     "metadata": {},
     "output_type": "execute_result"
    }
   ],
   "source": [
    "pov_fl_va.fields"
   ]
  },
  {
   "cell_type": "code",
   "execution_count": 56,
   "id": "b0df7424",
   "metadata": {},
   "outputs": [
    {
     "data": {
      "text/plain": [
       "Index(['OBJECTID', 'CNTYNAME', 'STATE_NAME', 'households_blwpvty',\n",
       "       'total_households', 'SqMiles', 'Shape__Area', 'Shape__Length', 'SHAPE'],\n",
       "      dtype='object')"
      ]
     },
     "execution_count": 56,
     "metadata": {},
     "output_type": "execute_result"
    }
   ],
   "source": [
    "pov_fl_va.sdf.columns"
   ]
  },
  {
   "cell_type": "code",
   "execution_count": 65,
   "id": "56245ec3",
   "metadata": {},
   "outputs": [],
   "source": [
    "va_map3 = gis.map('Virginia')"
   ]
  },
  {
   "cell_type": "markdown",
   "id": "27653dfb",
   "metadata": {},
   "source": [
    "Plot the Number of Households below Poverty Level on the County Level."
   ]
  },
  {
   "cell_type": "code",
   "execution_count": 66,
   "id": "de0edcf5",
   "metadata": {},
   "outputs": [
    {
     "data": {
      "application/vnd.jupyter.widget-view+json": {
       "model_id": "db23281c54ef434e8b7030d638aaa942",
       "version_major": 2,
       "version_minor": 0
      },
      "text/plain": [
       "MapView(layout=Layout(height='400px', width='100%'), legend=True)"
      ]
     },
     "metadata": {},
     "output_type": "display_data"
    },
    {
     "data": {
      "text/html": [
       "<div class=\"map-static-img-preview-4375a032-1f35-4967-b12a-d984641e61b2\"><img src=\"\"></img></div>"
      ],
      "text/plain": [
       "<IPython.core.display.HTML object>"
      ]
     },
     "metadata": {},
     "output_type": "display_data"
    },
    {
     "data": {
      "text/html": [
       "<div class=\"map-html-embed-preview-4375a032-1f35-4967-b12a-d984641e61b2\"></div>"
      ],
      "text/plain": [
       "<IPython.core.display.HTML object>"
      ]
     },
     "metadata": {},
     "output_type": "display_data"
    }
   ],
   "source": [
    "choropleth_map(va_map3,pov_fl_va,\"households_blwpvty\",renderer=\"ClassedColorRenderer\")"
   ]
  },
  {
   "cell_type": "markdown",
   "id": "c1967b08",
   "metadata": {},
   "source": [
    "## 4. Create some charts/visualizations using pandas of the data for your selected region and a temporal timefram if your data permits."
   ]
  },
  {
   "cell_type": "markdown",
   "id": "ac681866",
   "metadata": {},
   "source": [
    "#### Using the GDP Layer."
   ]
  },
  {
   "cell_type": "code",
   "execution_count": 67,
   "id": "fbb2e291",
   "metadata": {},
   "outputs": [],
   "source": [
    "import pandas as pd"
   ]
  },
  {
   "cell_type": "code",
   "execution_count": 68,
   "id": "c9c31219",
   "metadata": {},
   "outputs": [
    {
     "data": {
      "text/plain": [
       "(105, 76)"
      ]
     },
     "execution_count": 68,
     "metadata": {},
     "output_type": "execute_result"
    }
   ],
   "source": [
    "fl_va.sdf.shape"
   ]
  },
  {
   "cell_type": "code",
   "execution_count": 69,
   "id": "eb2f09dd",
   "metadata": {},
   "outputs": [],
   "source": [
    "fl_va_df = fl_va.sdf  "
   ]
  },
  {
   "cell_type": "code",
   "execution_count": 70,
   "id": "4c134a8d",
   "metadata": {},
   "outputs": [
    {
     "data": {
      "text/plain": [
       "Index(['OBJECTID', 'year_2019_1', 'year_2019_2', 'year_2019_3', 'year_2019_6',\n",
       "       'year_2019_10', 'year_2019_11', 'year_2019_12', 'year_2019_13',\n",
       "       'year_2019_25', 'year_2019_34', 'year_2019_35', 'year_2019_36',\n",
       "       'year_2019_45', 'year_2019_50', 'year_2019_51', 'year_2019_56',\n",
       "       'year_2019_59', 'year_2019_60', 'year_2019_64', 'year_2019_65',\n",
       "       'year_2019_68', 'year_2019_69', 'year_2019_70', 'year_2019_75',\n",
       "       'year_2019_76', 'year_2019_79', 'year_2019_82', 'year_2019_83',\n",
       "       'year_2019_87', 'year_2019_88', 'year_2019_89', 'year_2019_90',\n",
       "       'year_2019_91', 'year_2019_92', 'County', 'State', 'Region',\n",
       "       'pct_state_2019_1', 'pct_state_2019_2', 'pct_state_2019_3',\n",
       "       'pct_state_2019_6', 'pct_state_2019_10', 'pct_state_2019_11',\n",
       "       'pct_state_2019_12', 'pct_state_2019_13', 'pct_state_2019_25',\n",
       "       'pct_state_2019_34', 'pct_state_2019_35', 'pct_state_2019_36',\n",
       "       'pct_state_2019_45', 'pct_state_2019_50', 'pct_state_2019_51',\n",
       "       'pct_state_2019_56', 'pct_state_2019_59', 'pct_state_2019_60',\n",
       "       'pct_state_2019_64', 'pct_state_2019_65', 'pct_state_2019_68',\n",
       "       'pct_state_2019_69', 'pct_state_2019_70', 'pct_state_2019_75',\n",
       "       'pct_state_2019_76', 'pct_state_2019_79', 'pct_state_2019_82',\n",
       "       'pct_state_2019_83', 'pct_state_2019_87', 'pct_state_2019_88',\n",
       "       'pct_state_2019_89', 'pct_state_2019_90', 'pct_state_2019_91',\n",
       "       'pct_state_2019_92', 'FIPS', 'Shape__Area', 'Shape__Length', 'SHAPE'],\n",
       "      dtype='object')"
      ]
     },
     "execution_count": 70,
     "metadata": {},
     "output_type": "execute_result"
    }
   ],
   "source": [
    "fl_va_df.columns"
   ]
  },
  {
   "cell_type": "code",
   "execution_count": 71,
   "id": "516e5140",
   "metadata": {},
   "outputs": [
    {
     "data": {
      "text/plain": [
       "Gloucester, VA                                   1\n",
       "Brunswick, VA                                    1\n",
       "Highland, VA                                     1\n",
       "Prince George + Hopewell, VA*                    1\n",
       "Surry, VA                                        1\n",
       "                                                ..\n",
       "Dinwiddie, Colonial Heights + Petersburg, VA*    1\n",
       "Wise + Norton, VA*                               1\n",
       "King and Queen, VA                               1\n",
       "Franklin, VA                                     1\n",
       "Rockbridge, Buena Vista + Lexington, VA*         1\n",
       "Name: County, Length: 105, dtype: int64"
      ]
     },
     "execution_count": 71,
     "metadata": {},
     "output_type": "execute_result"
    }
   ],
   "source": [
    "fl_va_df['County'].value_counts()"
   ]
  },
  {
   "cell_type": "markdown",
   "id": "fdb79810",
   "metadata": {},
   "source": [
    "Check whether each row represents a single County in Virgina."
   ]
  },
  {
   "cell_type": "code",
   "execution_count": 72,
   "id": "73e8a9af",
   "metadata": {},
   "outputs": [
    {
     "data": {
      "text/plain": [
       "[]"
      ]
     },
     "execution_count": 72,
     "metadata": {},
     "output_type": "execute_result"
    }
   ],
   "source": [
    "list(fl_va_df['County'].value_counts()[fl_va_df[\"County\"].value_counts() > 1].index)"
   ]
  },
  {
   "cell_type": "markdown",
   "id": "cfeb0d29",
   "metadata": {},
   "source": [
    "### Histogram for GDP-dominant Industries (on the County Level)"
   ]
  },
  {
   "cell_type": "code",
   "execution_count": 73,
   "id": "d299e2a9",
   "metadata": {},
   "outputs": [
    {
     "data": {
      "text/plain": [
       "True"
      ]
     },
     "execution_count": 73,
     "metadata": {},
     "output_type": "execute_result"
    }
   ],
   "source": [
    "# Check whether we have Fairfax County's data in this dataframe. \n",
    "fl_va_df[\"County\"].str.contains(\"Fairfax\").any()"
   ]
  },
  {
   "cell_type": "code",
   "execution_count": 74,
   "id": "2fac5a25",
   "metadata": {},
   "outputs": [
    {
     "data": {
      "text/plain": [
       "True"
      ]
     },
     "execution_count": 74,
     "metadata": {},
     "output_type": "execute_result"
    }
   ],
   "source": [
    "# Check whether we have Loudoun County's data in this dataframe. \n",
    "fl_va_df[\"County\"].str.contains(\"Loudoun\").any()"
   ]
  },
  {
   "cell_type": "code",
   "execution_count": 75,
   "id": "df688ad8",
   "metadata": {},
   "outputs": [],
   "source": [
    "# Create a sub dataframe which only contains county and its corresponding GDP percentage data.\n",
    "fl_va_df_viz = fl_va_df[['County',\n",
    "       'pct_state_2019_1', 'pct_state_2019_2', 'pct_state_2019_3',\n",
    "       'pct_state_2019_6', 'pct_state_2019_10', 'pct_state_2019_11',\n",
    "       'pct_state_2019_12', 'pct_state_2019_13', 'pct_state_2019_25',\n",
    "       'pct_state_2019_34', 'pct_state_2019_35', 'pct_state_2019_36',\n",
    "       'pct_state_2019_45', 'pct_state_2019_50', 'pct_state_2019_51',\n",
    "       'pct_state_2019_56', 'pct_state_2019_59', 'pct_state_2019_60',\n",
    "       'pct_state_2019_64', 'pct_state_2019_65', 'pct_state_2019_68',\n",
    "       'pct_state_2019_69', 'pct_state_2019_70', 'pct_state_2019_75',\n",
    "       'pct_state_2019_76', 'pct_state_2019_79', 'pct_state_2019_82',\n",
    "       'pct_state_2019_83', 'pct_state_2019_87', 'pct_state_2019_88',\n",
    "       'pct_state_2019_89', 'pct_state_2019_90', 'pct_state_2019_91',\n",
    "       'pct_state_2019_92']]"
   ]
  },
  {
   "cell_type": "code",
   "execution_count": 76,
   "id": "639b1beb",
   "metadata": {},
   "outputs": [
    {
     "data": {
      "text/html": [
       "<div>\n",
       "<style scoped>\n",
       "    .dataframe tbody tr th:only-of-type {\n",
       "        vertical-align: middle;\n",
       "    }\n",
       "\n",
       "    .dataframe tbody tr th {\n",
       "        vertical-align: top;\n",
       "    }\n",
       "\n",
       "    .dataframe thead th {\n",
       "        text-align: right;\n",
       "    }\n",
       "</style>\n",
       "<table border=\"1\" class=\"dataframe\">\n",
       "  <thead>\n",
       "    <tr style=\"text-align: right;\">\n",
       "      <th></th>\n",
       "      <th>County</th>\n",
       "      <th>pct_state_2019_1</th>\n",
       "      <th>pct_state_2019_2</th>\n",
       "      <th>pct_state_2019_3</th>\n",
       "      <th>pct_state_2019_6</th>\n",
       "      <th>pct_state_2019_10</th>\n",
       "      <th>pct_state_2019_11</th>\n",
       "      <th>pct_state_2019_12</th>\n",
       "      <th>pct_state_2019_13</th>\n",
       "      <th>pct_state_2019_25</th>\n",
       "      <th>...</th>\n",
       "      <th>pct_state_2019_76</th>\n",
       "      <th>pct_state_2019_79</th>\n",
       "      <th>pct_state_2019_82</th>\n",
       "      <th>pct_state_2019_83</th>\n",
       "      <th>pct_state_2019_87</th>\n",
       "      <th>pct_state_2019_88</th>\n",
       "      <th>pct_state_2019_89</th>\n",
       "      <th>pct_state_2019_90</th>\n",
       "      <th>pct_state_2019_91</th>\n",
       "      <th>pct_state_2019_92</th>\n",
       "    </tr>\n",
       "  </thead>\n",
       "  <tbody>\n",
       "    <tr>\n",
       "      <th>0</th>\n",
       "      <td>Charlotte, VA</td>\n",
       "      <td>0.1</td>\n",
       "      <td>0.1</td>\n",
       "      <td>0.8</td>\n",
       "      <td>0.0</td>\n",
       "      <td>0.0</td>\n",
       "      <td>0.0</td>\n",
       "      <td>0.1</td>\n",
       "      <td>0.2</td>\n",
       "      <td>0.0</td>\n",
       "      <td>...</td>\n",
       "      <td>NaN</td>\n",
       "      <td>NaN</td>\n",
       "      <td>0.1</td>\n",
       "      <td>0.1</td>\n",
       "      <td>0.4</td>\n",
       "      <td>0.1</td>\n",
       "      <td>0.1</td>\n",
       "      <td>NaN</td>\n",
       "      <td>0.1</td>\n",
       "      <td>0.0</td>\n",
       "    </tr>\n",
       "    <tr>\n",
       "      <th>1</th>\n",
       "      <td>Dickenson, VA</td>\n",
       "      <td>0.1</td>\n",
       "      <td>0.1</td>\n",
       "      <td>0.1</td>\n",
       "      <td>16.8</td>\n",
       "      <td>0.0</td>\n",
       "      <td>0.1</td>\n",
       "      <td>0.0</td>\n",
       "      <td>0.0</td>\n",
       "      <td>0.0</td>\n",
       "      <td>...</td>\n",
       "      <td>NaN</td>\n",
       "      <td>NaN</td>\n",
       "      <td>0.1</td>\n",
       "      <td>0.1</td>\n",
       "      <td>8.0</td>\n",
       "      <td>0.0</td>\n",
       "      <td>0.1</td>\n",
       "      <td>0.0</td>\n",
       "      <td>0.4</td>\n",
       "      <td>0.1</td>\n",
       "    </tr>\n",
       "    <tr>\n",
       "      <th>2</th>\n",
       "      <td>Gloucester, VA</td>\n",
       "      <td>0.2</td>\n",
       "      <td>0.2</td>\n",
       "      <td>0.5</td>\n",
       "      <td>0.1</td>\n",
       "      <td>NaN</td>\n",
       "      <td>0.3</td>\n",
       "      <td>0.1</td>\n",
       "      <td>0.1</td>\n",
       "      <td>0.0</td>\n",
       "      <td>...</td>\n",
       "      <td>0.1</td>\n",
       "      <td>0.2</td>\n",
       "      <td>0.3</td>\n",
       "      <td>0.2</td>\n",
       "      <td>0.3</td>\n",
       "      <td>NaN</td>\n",
       "      <td>NaN</td>\n",
       "      <td>0.0</td>\n",
       "      <td>0.1</td>\n",
       "      <td>0.2</td>\n",
       "    </tr>\n",
       "    <tr>\n",
       "      <th>3</th>\n",
       "      <td>Hanover, VA</td>\n",
       "      <td>1.1</td>\n",
       "      <td>1.3</td>\n",
       "      <td>1.7</td>\n",
       "      <td>0.8</td>\n",
       "      <td>4.1</td>\n",
       "      <td>2.1</td>\n",
       "      <td>1.2</td>\n",
       "      <td>1.2</td>\n",
       "      <td>1.1</td>\n",
       "      <td>...</td>\n",
       "      <td>2.1</td>\n",
       "      <td>0.9</td>\n",
       "      <td>1.2</td>\n",
       "      <td>0.4</td>\n",
       "      <td>1.3</td>\n",
       "      <td>3.0</td>\n",
       "      <td>2.1</td>\n",
       "      <td>0.9</td>\n",
       "      <td>1.5</td>\n",
       "      <td>1.2</td>\n",
       "    </tr>\n",
       "    <tr>\n",
       "      <th>4</th>\n",
       "      <td>King George, VA</td>\n",
       "      <td>0.3</td>\n",
       "      <td>0.2</td>\n",
       "      <td>0.2</td>\n",
       "      <td>0.4</td>\n",
       "      <td>NaN</td>\n",
       "      <td>0.1</td>\n",
       "      <td>0.1</td>\n",
       "      <td>0.1</td>\n",
       "      <td>0.1</td>\n",
       "      <td>...</td>\n",
       "      <td>0.0</td>\n",
       "      <td>0.1</td>\n",
       "      <td>0.1</td>\n",
       "      <td>1.2</td>\n",
       "      <td>0.3</td>\n",
       "      <td>NaN</td>\n",
       "      <td>NaN</td>\n",
       "      <td>0.1</td>\n",
       "      <td>0.1</td>\n",
       "      <td>0.2</td>\n",
       "    </tr>\n",
       "    <tr>\n",
       "      <th>...</th>\n",
       "      <td>...</td>\n",
       "      <td>...</td>\n",
       "      <td>...</td>\n",
       "      <td>...</td>\n",
       "      <td>...</td>\n",
       "      <td>...</td>\n",
       "      <td>...</td>\n",
       "      <td>...</td>\n",
       "      <td>...</td>\n",
       "      <td>...</td>\n",
       "      <td>...</td>\n",
       "      <td>...</td>\n",
       "      <td>...</td>\n",
       "      <td>...</td>\n",
       "      <td>...</td>\n",
       "      <td>...</td>\n",
       "      <td>...</td>\n",
       "      <td>...</td>\n",
       "      <td>...</td>\n",
       "      <td>...</td>\n",
       "      <td>...</td>\n",
       "    </tr>\n",
       "    <tr>\n",
       "      <th>100</th>\n",
       "      <td>Southampton + Franklin, VA*</td>\n",
       "      <td>0.2</td>\n",
       "      <td>0.2</td>\n",
       "      <td>3.9</td>\n",
       "      <td>0.0</td>\n",
       "      <td>0.4</td>\n",
       "      <td>0.1</td>\n",
       "      <td>0.1</td>\n",
       "      <td>0.1</td>\n",
       "      <td>0.1</td>\n",
       "      <td>...</td>\n",
       "      <td>NaN</td>\n",
       "      <td>NaN</td>\n",
       "      <td>0.2</td>\n",
       "      <td>0.2</td>\n",
       "      <td>2.1</td>\n",
       "      <td>0.2</td>\n",
       "      <td>NaN</td>\n",
       "      <td>0.1</td>\n",
       "      <td>0.2</td>\n",
       "      <td>0.1</td>\n",
       "    </tr>\n",
       "    <tr>\n",
       "      <th>101</th>\n",
       "      <td>Spotsylvania + Fredericksburg, VA*</td>\n",
       "      <td>1.1</td>\n",
       "      <td>1.2</td>\n",
       "      <td>NaN</td>\n",
       "      <td>0.6</td>\n",
       "      <td>0.1</td>\n",
       "      <td>1.3</td>\n",
       "      <td>NaN</td>\n",
       "      <td>0.8</td>\n",
       "      <td>NaN</td>\n",
       "      <td>...</td>\n",
       "      <td>1.0</td>\n",
       "      <td>2.0</td>\n",
       "      <td>1.5</td>\n",
       "      <td>0.9</td>\n",
       "      <td>NaN</td>\n",
       "      <td>NaN</td>\n",
       "      <td>NaN</td>\n",
       "      <td>NaN</td>\n",
       "      <td>0.8</td>\n",
       "      <td>1.3</td>\n",
       "    </tr>\n",
       "    <tr>\n",
       "      <th>102</th>\n",
       "      <td>Washington + Bristol, VA*</td>\n",
       "      <td>0.7</td>\n",
       "      <td>0.8</td>\n",
       "      <td>NaN</td>\n",
       "      <td>0.6</td>\n",
       "      <td>NaN</td>\n",
       "      <td>NaN</td>\n",
       "      <td>2.8</td>\n",
       "      <td>1.8</td>\n",
       "      <td>3.6</td>\n",
       "      <td>...</td>\n",
       "      <td>0.6</td>\n",
       "      <td>0.8</td>\n",
       "      <td>0.6</td>\n",
       "      <td>0.4</td>\n",
       "      <td>NaN</td>\n",
       "      <td>NaN</td>\n",
       "      <td>NaN</td>\n",
       "      <td>2.1</td>\n",
       "      <td>2.0</td>\n",
       "      <td>0.5</td>\n",
       "    </tr>\n",
       "    <tr>\n",
       "      <th>103</th>\n",
       "      <td>Wise + Norton, VA*</td>\n",
       "      <td>0.3</td>\n",
       "      <td>0.3</td>\n",
       "      <td>0.1</td>\n",
       "      <td>8.0</td>\n",
       "      <td>1.2</td>\n",
       "      <td>0.1</td>\n",
       "      <td>0.2</td>\n",
       "      <td>0.1</td>\n",
       "      <td>0.3</td>\n",
       "      <td>...</td>\n",
       "      <td>NaN</td>\n",
       "      <td>NaN</td>\n",
       "      <td>0.2</td>\n",
       "      <td>0.3</td>\n",
       "      <td>3.9</td>\n",
       "      <td>0.4</td>\n",
       "      <td>0.7</td>\n",
       "      <td>0.2</td>\n",
       "      <td>0.4</td>\n",
       "      <td>0.3</td>\n",
       "    </tr>\n",
       "    <tr>\n",
       "      <th>104</th>\n",
       "      <td>York + Poquoson, VA*</td>\n",
       "      <td>0.5</td>\n",
       "      <td>0.4</td>\n",
       "      <td>0.4</td>\n",
       "      <td>0.0</td>\n",
       "      <td>NaN</td>\n",
       "      <td>0.6</td>\n",
       "      <td>0.1</td>\n",
       "      <td>0.2</td>\n",
       "      <td>0.0</td>\n",
       "      <td>...</td>\n",
       "      <td>NaN</td>\n",
       "      <td>NaN</td>\n",
       "      <td>0.6</td>\n",
       "      <td>0.8</td>\n",
       "      <td>0.2</td>\n",
       "      <td>0.6</td>\n",
       "      <td>NaN</td>\n",
       "      <td>NaN</td>\n",
       "      <td>0.3</td>\n",
       "      <td>0.5</td>\n",
       "    </tr>\n",
       "  </tbody>\n",
       "</table>\n",
       "<p>105 rows × 35 columns</p>\n",
       "</div>"
      ],
      "text/plain": [
       "                                 County  pct_state_2019_1  pct_state_2019_2  \\\n",
       "0                         Charlotte, VA               0.1               0.1   \n",
       "1                         Dickenson, VA               0.1               0.1   \n",
       "2                        Gloucester, VA               0.2               0.2   \n",
       "3                           Hanover, VA               1.1               1.3   \n",
       "4                       King George, VA               0.3               0.2   \n",
       "..                                  ...               ...               ...   \n",
       "100         Southampton + Franklin, VA*               0.2               0.2   \n",
       "101  Spotsylvania + Fredericksburg, VA*               1.1               1.2   \n",
       "102           Washington + Bristol, VA*               0.7               0.8   \n",
       "103                  Wise + Norton, VA*               0.3               0.3   \n",
       "104                York + Poquoson, VA*               0.5               0.4   \n",
       "\n",
       "     pct_state_2019_3  pct_state_2019_6  pct_state_2019_10  pct_state_2019_11  \\\n",
       "0                 0.8               0.0                0.0                0.0   \n",
       "1                 0.1              16.8                0.0                0.1   \n",
       "2                 0.5               0.1                NaN                0.3   \n",
       "3                 1.7               0.8                4.1                2.1   \n",
       "4                 0.2               0.4                NaN                0.1   \n",
       "..                ...               ...                ...                ...   \n",
       "100               3.9               0.0                0.4                0.1   \n",
       "101               NaN               0.6                0.1                1.3   \n",
       "102               NaN               0.6                NaN                NaN   \n",
       "103               0.1               8.0                1.2                0.1   \n",
       "104               0.4               0.0                NaN                0.6   \n",
       "\n",
       "     pct_state_2019_12  pct_state_2019_13  pct_state_2019_25  ...  \\\n",
       "0                  0.1                0.2                0.0  ...   \n",
       "1                  0.0                0.0                0.0  ...   \n",
       "2                  0.1                0.1                0.0  ...   \n",
       "3                  1.2                1.2                1.1  ...   \n",
       "4                  0.1                0.1                0.1  ...   \n",
       "..                 ...                ...                ...  ...   \n",
       "100                0.1                0.1                0.1  ...   \n",
       "101                NaN                0.8                NaN  ...   \n",
       "102                2.8                1.8                3.6  ...   \n",
       "103                0.2                0.1                0.3  ...   \n",
       "104                0.1                0.2                0.0  ...   \n",
       "\n",
       "     pct_state_2019_76  pct_state_2019_79  pct_state_2019_82  \\\n",
       "0                  NaN                NaN                0.1   \n",
       "1                  NaN                NaN                0.1   \n",
       "2                  0.1                0.2                0.3   \n",
       "3                  2.1                0.9                1.2   \n",
       "4                  0.0                0.1                0.1   \n",
       "..                 ...                ...                ...   \n",
       "100                NaN                NaN                0.2   \n",
       "101                1.0                2.0                1.5   \n",
       "102                0.6                0.8                0.6   \n",
       "103                NaN                NaN                0.2   \n",
       "104                NaN                NaN                0.6   \n",
       "\n",
       "     pct_state_2019_83  pct_state_2019_87  pct_state_2019_88  \\\n",
       "0                  0.1                0.4                0.1   \n",
       "1                  0.1                8.0                0.0   \n",
       "2                  0.2                0.3                NaN   \n",
       "3                  0.4                1.3                3.0   \n",
       "4                  1.2                0.3                NaN   \n",
       "..                 ...                ...                ...   \n",
       "100                0.2                2.1                0.2   \n",
       "101                0.9                NaN                NaN   \n",
       "102                0.4                NaN                NaN   \n",
       "103                0.3                3.9                0.4   \n",
       "104                0.8                0.2                0.6   \n",
       "\n",
       "     pct_state_2019_89  pct_state_2019_90  pct_state_2019_91  \\\n",
       "0                  0.1                NaN                0.1   \n",
       "1                  0.1                0.0                0.4   \n",
       "2                  NaN                0.0                0.1   \n",
       "3                  2.1                0.9                1.5   \n",
       "4                  NaN                0.1                0.1   \n",
       "..                 ...                ...                ...   \n",
       "100                NaN                0.1                0.2   \n",
       "101                NaN                NaN                0.8   \n",
       "102                NaN                2.1                2.0   \n",
       "103                0.7                0.2                0.4   \n",
       "104                NaN                NaN                0.3   \n",
       "\n",
       "     pct_state_2019_92  \n",
       "0                  0.0  \n",
       "1                  0.1  \n",
       "2                  0.2  \n",
       "3                  1.2  \n",
       "4                  0.2  \n",
       "..                 ...  \n",
       "100                0.1  \n",
       "101                1.3  \n",
       "102                0.5  \n",
       "103                0.3  \n",
       "104                0.5  \n",
       "\n",
       "[105 rows x 35 columns]"
      ]
     },
     "execution_count": 76,
     "metadata": {},
     "output_type": "execute_result"
    }
   ],
   "source": [
    "fl_va_df_viz"
   ]
  },
  {
   "cell_type": "code",
   "execution_count": 77,
   "id": "501cd1da",
   "metadata": {},
   "outputs": [],
   "source": [
    "loudoun = fl_va_df_viz.loc[fl_va_df_viz['County'].str.contains('Loudoun')]"
   ]
  },
  {
   "cell_type": "code",
   "execution_count": 78,
   "id": "e09a9184",
   "metadata": {},
   "outputs": [],
   "source": [
    "fairfax = fl_va_df_viz.loc[fl_va_df_viz['County'].str.contains('Fairfax')]"
   ]
  },
  {
   "cell_type": "code",
   "execution_count": 79,
   "id": "b486e1de",
   "metadata": {},
   "outputs": [
    {
     "data": {
      "text/html": [
       "<div>\n",
       "<style scoped>\n",
       "    .dataframe tbody tr th:only-of-type {\n",
       "        vertical-align: middle;\n",
       "    }\n",
       "\n",
       "    .dataframe tbody tr th {\n",
       "        vertical-align: top;\n",
       "    }\n",
       "\n",
       "    .dataframe thead th {\n",
       "        text-align: right;\n",
       "    }\n",
       "</style>\n",
       "<table border=\"1\" class=\"dataframe\">\n",
       "  <thead>\n",
       "    <tr style=\"text-align: right;\">\n",
       "      <th></th>\n",
       "      <th>County</th>\n",
       "      <th>pct_state_2019_1</th>\n",
       "      <th>pct_state_2019_2</th>\n",
       "      <th>pct_state_2019_3</th>\n",
       "      <th>pct_state_2019_6</th>\n",
       "      <th>pct_state_2019_10</th>\n",
       "      <th>pct_state_2019_11</th>\n",
       "      <th>pct_state_2019_12</th>\n",
       "      <th>pct_state_2019_13</th>\n",
       "      <th>pct_state_2019_25</th>\n",
       "      <th>...</th>\n",
       "      <th>pct_state_2019_76</th>\n",
       "      <th>pct_state_2019_79</th>\n",
       "      <th>pct_state_2019_82</th>\n",
       "      <th>pct_state_2019_83</th>\n",
       "      <th>pct_state_2019_87</th>\n",
       "      <th>pct_state_2019_88</th>\n",
       "      <th>pct_state_2019_89</th>\n",
       "      <th>pct_state_2019_90</th>\n",
       "      <th>pct_state_2019_91</th>\n",
       "      <th>pct_state_2019_92</th>\n",
       "    </tr>\n",
       "  </thead>\n",
       "  <tbody>\n",
       "    <tr>\n",
       "      <th>21</th>\n",
       "      <td>Loudoun, VA</td>\n",
       "      <td>5.0</td>\n",
       "      <td>5.5</td>\n",
       "      <td>0.9</td>\n",
       "      <td>6.2</td>\n",
       "      <td>3.2</td>\n",
       "      <td>10.1</td>\n",
       "      <td>3.2</td>\n",
       "      <td>6.7</td>\n",
       "      <td>0.6</td>\n",
       "      <td>...</td>\n",
       "      <td>14.6</td>\n",
       "      <td>6.6</td>\n",
       "      <td>4.8</td>\n",
       "      <td>3.0</td>\n",
       "      <td>3.5</td>\n",
       "      <td>3.7</td>\n",
       "      <td>11.4</td>\n",
       "      <td>9.2</td>\n",
       "      <td>5.4</td>\n",
       "      <td>5.5</td>\n",
       "    </tr>\n",
       "  </tbody>\n",
       "</table>\n",
       "<p>1 rows × 35 columns</p>\n",
       "</div>"
      ],
      "text/plain": [
       "         County  pct_state_2019_1  pct_state_2019_2  pct_state_2019_3  \\\n",
       "21  Loudoun, VA               5.0               5.5               0.9   \n",
       "\n",
       "    pct_state_2019_6  pct_state_2019_10  pct_state_2019_11  pct_state_2019_12  \\\n",
       "21               6.2                3.2               10.1                3.2   \n",
       "\n",
       "    pct_state_2019_13  pct_state_2019_25  ...  pct_state_2019_76  \\\n",
       "21                6.7                0.6  ...               14.6   \n",
       "\n",
       "    pct_state_2019_79  pct_state_2019_82  pct_state_2019_83  \\\n",
       "21                6.6                4.8                3.0   \n",
       "\n",
       "    pct_state_2019_87  pct_state_2019_88  pct_state_2019_89  \\\n",
       "21                3.5                3.7               11.4   \n",
       "\n",
       "    pct_state_2019_90  pct_state_2019_91  pct_state_2019_92  \n",
       "21                9.2                5.4                5.5  \n",
       "\n",
       "[1 rows x 35 columns]"
      ]
     },
     "execution_count": 79,
     "metadata": {},
     "output_type": "execute_result"
    }
   ],
   "source": [
    "loudoun"
   ]
  },
  {
   "cell_type": "code",
   "execution_count": 80,
   "id": "e466431d",
   "metadata": {},
   "outputs": [
    {
     "data": {
      "text/html": [
       "<div>\n",
       "<style scoped>\n",
       "    .dataframe tbody tr th:only-of-type {\n",
       "        vertical-align: middle;\n",
       "    }\n",
       "\n",
       "    .dataframe tbody tr th {\n",
       "        vertical-align: top;\n",
       "    }\n",
       "\n",
       "    .dataframe thead th {\n",
       "        text-align: right;\n",
       "    }\n",
       "</style>\n",
       "<table border=\"1\" class=\"dataframe\">\n",
       "  <thead>\n",
       "    <tr style=\"text-align: right;\">\n",
       "      <th></th>\n",
       "      <th>County</th>\n",
       "      <th>pct_state_2019_1</th>\n",
       "      <th>pct_state_2019_2</th>\n",
       "      <th>pct_state_2019_3</th>\n",
       "      <th>pct_state_2019_6</th>\n",
       "      <th>pct_state_2019_10</th>\n",
       "      <th>pct_state_2019_11</th>\n",
       "      <th>pct_state_2019_12</th>\n",
       "      <th>pct_state_2019_13</th>\n",
       "      <th>pct_state_2019_25</th>\n",
       "      <th>...</th>\n",
       "      <th>pct_state_2019_76</th>\n",
       "      <th>pct_state_2019_79</th>\n",
       "      <th>pct_state_2019_82</th>\n",
       "      <th>pct_state_2019_83</th>\n",
       "      <th>pct_state_2019_87</th>\n",
       "      <th>pct_state_2019_88</th>\n",
       "      <th>pct_state_2019_89</th>\n",
       "      <th>pct_state_2019_90</th>\n",
       "      <th>pct_state_2019_91</th>\n",
       "      <th>pct_state_2019_92</th>\n",
       "    </tr>\n",
       "  </thead>\n",
       "  <tbody>\n",
       "    <tr>\n",
       "      <th>88</th>\n",
       "      <td>Fairfax, Fairfax City + Falls Church, VA*</td>\n",
       "      <td>22.0</td>\n",
       "      <td>23.2</td>\n",
       "      <td>NaN</td>\n",
       "      <td>5.3</td>\n",
       "      <td>7.8</td>\n",
       "      <td>18.8</td>\n",
       "      <td>2.3</td>\n",
       "      <td>3.1</td>\n",
       "      <td>1.7</td>\n",
       "      <td>...</td>\n",
       "      <td>21.3</td>\n",
       "      <td>19.5</td>\n",
       "      <td>19.6</td>\n",
       "      <td>16.5</td>\n",
       "      <td>NaN</td>\n",
       "      <td>25.0</td>\n",
       "      <td>NaN</td>\n",
       "      <td>11.4</td>\n",
       "      <td>NaN</td>\n",
       "      <td>NaN</td>\n",
       "    </tr>\n",
       "  </tbody>\n",
       "</table>\n",
       "<p>1 rows × 35 columns</p>\n",
       "</div>"
      ],
      "text/plain": [
       "                                       County  pct_state_2019_1  \\\n",
       "88  Fairfax, Fairfax City + Falls Church, VA*              22.0   \n",
       "\n",
       "    pct_state_2019_2  pct_state_2019_3  pct_state_2019_6  pct_state_2019_10  \\\n",
       "88              23.2               NaN               5.3                7.8   \n",
       "\n",
       "    pct_state_2019_11  pct_state_2019_12  pct_state_2019_13  \\\n",
       "88               18.8                2.3                3.1   \n",
       "\n",
       "    pct_state_2019_25  ...  pct_state_2019_76  pct_state_2019_79  \\\n",
       "88                1.7  ...               21.3               19.5   \n",
       "\n",
       "    pct_state_2019_82  pct_state_2019_83  pct_state_2019_87  \\\n",
       "88               19.6               16.5                NaN   \n",
       "\n",
       "    pct_state_2019_88  pct_state_2019_89  pct_state_2019_90  \\\n",
       "88               25.0                NaN               11.4   \n",
       "\n",
       "    pct_state_2019_91  pct_state_2019_92  \n",
       "88                NaN                NaN  \n",
       "\n",
       "[1 rows x 35 columns]"
      ]
     },
     "execution_count": 80,
     "metadata": {},
     "output_type": "execute_result"
    }
   ],
   "source": [
    "fairfax"
   ]
  },
  {
   "cell_type": "code",
   "execution_count": 81,
   "id": "93e59c45",
   "metadata": {},
   "outputs": [],
   "source": [
    "loudoun = loudoun.drop('County',axis=1)"
   ]
  },
  {
   "cell_type": "code",
   "execution_count": 82,
   "id": "0cf9f61a",
   "metadata": {},
   "outputs": [
    {
     "data": {
      "text/html": [
       "<div>\n",
       "<style scoped>\n",
       "    .dataframe tbody tr th:only-of-type {\n",
       "        vertical-align: middle;\n",
       "    }\n",
       "\n",
       "    .dataframe tbody tr th {\n",
       "        vertical-align: top;\n",
       "    }\n",
       "\n",
       "    .dataframe thead th {\n",
       "        text-align: right;\n",
       "    }\n",
       "</style>\n",
       "<table border=\"1\" class=\"dataframe\">\n",
       "  <thead>\n",
       "    <tr style=\"text-align: right;\">\n",
       "      <th></th>\n",
       "      <th>pct_state_2019_1</th>\n",
       "      <th>pct_state_2019_2</th>\n",
       "      <th>pct_state_2019_3</th>\n",
       "      <th>pct_state_2019_6</th>\n",
       "      <th>pct_state_2019_10</th>\n",
       "      <th>pct_state_2019_11</th>\n",
       "      <th>pct_state_2019_12</th>\n",
       "      <th>pct_state_2019_13</th>\n",
       "      <th>pct_state_2019_25</th>\n",
       "      <th>pct_state_2019_34</th>\n",
       "      <th>...</th>\n",
       "      <th>pct_state_2019_76</th>\n",
       "      <th>pct_state_2019_79</th>\n",
       "      <th>pct_state_2019_82</th>\n",
       "      <th>pct_state_2019_83</th>\n",
       "      <th>pct_state_2019_87</th>\n",
       "      <th>pct_state_2019_88</th>\n",
       "      <th>pct_state_2019_89</th>\n",
       "      <th>pct_state_2019_90</th>\n",
       "      <th>pct_state_2019_91</th>\n",
       "      <th>pct_state_2019_92</th>\n",
       "    </tr>\n",
       "  </thead>\n",
       "  <tbody>\n",
       "    <tr>\n",
       "      <th>21</th>\n",
       "      <td>5.0</td>\n",
       "      <td>5.5</td>\n",
       "      <td>0.9</td>\n",
       "      <td>6.2</td>\n",
       "      <td>3.2</td>\n",
       "      <td>10.1</td>\n",
       "      <td>3.2</td>\n",
       "      <td>6.7</td>\n",
       "      <td>0.6</td>\n",
       "      <td>2.7</td>\n",
       "      <td>...</td>\n",
       "      <td>14.6</td>\n",
       "      <td>6.6</td>\n",
       "      <td>4.8</td>\n",
       "      <td>3.0</td>\n",
       "      <td>3.5</td>\n",
       "      <td>3.7</td>\n",
       "      <td>11.4</td>\n",
       "      <td>9.2</td>\n",
       "      <td>5.4</td>\n",
       "      <td>5.5</td>\n",
       "    </tr>\n",
       "  </tbody>\n",
       "</table>\n",
       "<p>1 rows × 34 columns</p>\n",
       "</div>"
      ],
      "text/plain": [
       "    pct_state_2019_1  pct_state_2019_2  pct_state_2019_3  pct_state_2019_6  \\\n",
       "21               5.0               5.5               0.9               6.2   \n",
       "\n",
       "    pct_state_2019_10  pct_state_2019_11  pct_state_2019_12  \\\n",
       "21                3.2               10.1                3.2   \n",
       "\n",
       "    pct_state_2019_13  pct_state_2019_25  pct_state_2019_34  ...  \\\n",
       "21                6.7                0.6                2.7  ...   \n",
       "\n",
       "    pct_state_2019_76  pct_state_2019_79  pct_state_2019_82  \\\n",
       "21               14.6                6.6                4.8   \n",
       "\n",
       "    pct_state_2019_83  pct_state_2019_87  pct_state_2019_88  \\\n",
       "21                3.0                3.5                3.7   \n",
       "\n",
       "    pct_state_2019_89  pct_state_2019_90  pct_state_2019_91  pct_state_2019_92  \n",
       "21               11.4                9.2                5.4                5.5  \n",
       "\n",
       "[1 rows x 34 columns]"
      ]
     },
     "execution_count": 82,
     "metadata": {},
     "output_type": "execute_result"
    }
   ],
   "source": [
    "loudoun"
   ]
  },
  {
   "cell_type": "code",
   "execution_count": 83,
   "id": "3c67d134",
   "metadata": {},
   "outputs": [],
   "source": [
    "fairfax = fairfax.drop('County',axis=1)"
   ]
  },
  {
   "cell_type": "code",
   "execution_count": 84,
   "id": "900c26e2",
   "metadata": {},
   "outputs": [
    {
     "data": {
      "text/html": [
       "<div>\n",
       "<style scoped>\n",
       "    .dataframe tbody tr th:only-of-type {\n",
       "        vertical-align: middle;\n",
       "    }\n",
       "\n",
       "    .dataframe tbody tr th {\n",
       "        vertical-align: top;\n",
       "    }\n",
       "\n",
       "    .dataframe thead th {\n",
       "        text-align: right;\n",
       "    }\n",
       "</style>\n",
       "<table border=\"1\" class=\"dataframe\">\n",
       "  <thead>\n",
       "    <tr style=\"text-align: right;\">\n",
       "      <th></th>\n",
       "      <th>pct_state_2019_1</th>\n",
       "      <th>pct_state_2019_2</th>\n",
       "      <th>pct_state_2019_3</th>\n",
       "      <th>pct_state_2019_6</th>\n",
       "      <th>pct_state_2019_10</th>\n",
       "      <th>pct_state_2019_11</th>\n",
       "      <th>pct_state_2019_12</th>\n",
       "      <th>pct_state_2019_13</th>\n",
       "      <th>pct_state_2019_25</th>\n",
       "      <th>pct_state_2019_34</th>\n",
       "      <th>...</th>\n",
       "      <th>pct_state_2019_76</th>\n",
       "      <th>pct_state_2019_79</th>\n",
       "      <th>pct_state_2019_82</th>\n",
       "      <th>pct_state_2019_83</th>\n",
       "      <th>pct_state_2019_87</th>\n",
       "      <th>pct_state_2019_88</th>\n",
       "      <th>pct_state_2019_89</th>\n",
       "      <th>pct_state_2019_90</th>\n",
       "      <th>pct_state_2019_91</th>\n",
       "      <th>pct_state_2019_92</th>\n",
       "    </tr>\n",
       "  </thead>\n",
       "  <tbody>\n",
       "    <tr>\n",
       "      <th>88</th>\n",
       "      <td>22.0</td>\n",
       "      <td>23.2</td>\n",
       "      <td>NaN</td>\n",
       "      <td>5.3</td>\n",
       "      <td>7.8</td>\n",
       "      <td>18.8</td>\n",
       "      <td>2.3</td>\n",
       "      <td>3.1</td>\n",
       "      <td>1.7</td>\n",
       "      <td>32.7</td>\n",
       "      <td>...</td>\n",
       "      <td>21.3</td>\n",
       "      <td>19.5</td>\n",
       "      <td>19.6</td>\n",
       "      <td>16.5</td>\n",
       "      <td>NaN</td>\n",
       "      <td>25.0</td>\n",
       "      <td>NaN</td>\n",
       "      <td>11.4</td>\n",
       "      <td>NaN</td>\n",
       "      <td>NaN</td>\n",
       "    </tr>\n",
       "  </tbody>\n",
       "</table>\n",
       "<p>1 rows × 34 columns</p>\n",
       "</div>"
      ],
      "text/plain": [
       "    pct_state_2019_1  pct_state_2019_2  pct_state_2019_3  pct_state_2019_6  \\\n",
       "88              22.0              23.2               NaN               5.3   \n",
       "\n",
       "    pct_state_2019_10  pct_state_2019_11  pct_state_2019_12  \\\n",
       "88                7.8               18.8                2.3   \n",
       "\n",
       "    pct_state_2019_13  pct_state_2019_25  pct_state_2019_34  ...  \\\n",
       "88                3.1                1.7               32.7  ...   \n",
       "\n",
       "    pct_state_2019_76  pct_state_2019_79  pct_state_2019_82  \\\n",
       "88               21.3               19.5               19.6   \n",
       "\n",
       "    pct_state_2019_83  pct_state_2019_87  pct_state_2019_88  \\\n",
       "88               16.5                NaN               25.0   \n",
       "\n",
       "    pct_state_2019_89  pct_state_2019_90  pct_state_2019_91  pct_state_2019_92  \n",
       "88                NaN               11.4                NaN                NaN  \n",
       "\n",
       "[1 rows x 34 columns]"
      ]
     },
     "execution_count": 84,
     "metadata": {},
     "output_type": "execute_result"
    }
   ],
   "source": [
    "fairfax"
   ]
  },
  {
   "cell_type": "markdown",
   "id": "e71f4ac4",
   "metadata": {},
   "source": [
    "* Idea about visualizations: Find out the major GDP-contributed industry in each county and draw a bar chart?"
   ]
  },
  {
   "cell_type": "code",
   "execution_count": 85,
   "id": "7e53f796",
   "metadata": {},
   "outputs": [],
   "source": [
    "fl_va_df_viz = fl_va_df_viz.fillna(0)"
   ]
  },
  {
   "cell_type": "code",
   "execution_count": 86,
   "id": "3bfb88f7",
   "metadata": {},
   "outputs": [],
   "source": [
    "fl_va_df_viz = fl_va_df_viz.set_index('County')"
   ]
  },
  {
   "cell_type": "code",
   "execution_count": 87,
   "id": "7f5f16b3",
   "metadata": {},
   "outputs": [],
   "source": [
    "max_ind = fl_va_df_viz.idxmax(axis=\"columns\")"
   ]
  },
  {
   "cell_type": "code",
   "execution_count": 88,
   "id": "fd3a27b4",
   "metadata": {},
   "outputs": [
    {
     "data": {
      "text/plain": [
       "pct_state_2019_3     31\n",
       "pct_state_2019_25    13\n",
       "pct_state_2019_13    12\n",
       "pct_state_2019_6      8\n",
       "pct_state_2019_10     7\n",
       "pct_state_2019_83     6\n",
       "pct_state_2019_35     4\n",
       "pct_state_2019_76     3\n",
       "pct_state_2019_11     3\n",
       "pct_state_2019_70     2\n",
       "pct_state_2019_69     2\n",
       "pct_state_2019_75     2\n",
       "pct_state_2019_82     2\n",
       "pct_state_2019_64     1\n",
       "pct_state_2019_60     1\n",
       "pct_state_2019_68     1\n",
       "pct_state_2019_36     1\n",
       "pct_state_2019_34     1\n",
       "pct_state_2019_1      1\n",
       "pct_state_2019_65     1\n",
       "pct_state_2019_56     1\n",
       "pct_state_2019_45     1\n",
       "pct_state_2019_50     1\n",
       "dtype: int64"
      ]
     },
     "execution_count": 88,
     "metadata": {},
     "output_type": "execute_result"
    }
   ],
   "source": [
    "max_ind.value_counts()"
   ]
  },
  {
   "cell_type": "code",
   "execution_count": 89,
   "id": "eeba4b42",
   "metadata": {},
   "outputs": [],
   "source": [
    "dict_gdp = {'pct_state_2019_1':'All Industries (Total)',\n",
    "            'pct_state_2019_3':'Agriculture, Forestry, Fishing and Hunting',\n",
    "            'pct_state_2019_10':'Utilities',\n",
    "            'pct_state_2019_11':'Construction',\n",
    "            'pct_state_2019_13':'Durable Goods Manufacturing',\n",
    "           'pct_state_2019_25':'Nondurable Goods Manufacturing',\n",
    "           'pct_state_2019_6':'Mining, Quarrying, and Oil and Gas Extraction' ,\n",
    "           'pct_state_2019_34':'Wholesale Trade',\n",
    "           'pct_state_2019_35':'Retail Trade',\n",
    "           'pct_state_2019_36':'Transportation and Warehousing',\n",
    "           'pct_state_2019_45':'Information',\n",
    "           'pct_state_2019_50':'Finance, Insurance, Real Estate, Rental, and Leasing',\n",
    "           'pct_state_2019_56':'Real Estate and Rental and Leasing',\n",
    "           'pct_state_2019_60':'Professional, Scientific, and Technical Services',\n",
    "           'pct_state_2019_64':'Management of Companies and Enterprises',\n",
    "           'pct_state_2019_65':'Administrative and Support and Waste Management and Remediation Services',\n",
    "           'pct_state_2019_68':'Educational Services, Health Care, and Social Assistance',\n",
    "           'pct_state_2019_69':'Educational Services',\n",
    "           'pct_state_2019_70':'Health Care and Social Assistance',\n",
    "           'pct_state_2019_75':'Arts, Entertainment, Recreation, Accommodation, and Food Services',\n",
    "           'pct_state_2019_76':'Arts, Entertainment, and Recreation',\n",
    "           'pct_state_2019_82':'Other Services (except Government and Government Enterprises)',\n",
    "           'pct_state_2019_83':'Government and Government Enterprises'}"
   ]
  },
  {
   "cell_type": "code",
   "execution_count": 90,
   "id": "f2bcc94d",
   "metadata": {},
   "outputs": [],
   "source": [
    "max_ind = max_ind.map(dict_gdp)"
   ]
  },
  {
   "cell_type": "code",
   "execution_count": 91,
   "id": "ff3d6d75",
   "metadata": {},
   "outputs": [],
   "source": [
    "max_counts = max_ind.value_counts()"
   ]
  },
  {
   "cell_type": "code",
   "execution_count": 92,
   "id": "d02024cf",
   "metadata": {},
   "outputs": [
    {
     "data": {
      "text/plain": [
       "Agriculture, Forestry, Fishing and Hunting                                  31\n",
       "Nondurable Goods Manufacturing                                              13\n",
       "Durable Goods Manufacturing                                                 12\n",
       "Mining, Quarrying, and Oil and Gas Extraction                                8\n",
       "Utilities                                                                    7\n",
       "Government and Government Enterprises                                        6\n",
       "Retail Trade                                                                 4\n",
       "Construction                                                                 3\n",
       "Arts, Entertainment, and Recreation                                          3\n",
       "Arts, Entertainment, Recreation, Accommodation, and Food Services            2\n",
       "Health Care and Social Assistance                                            2\n",
       "Other Services (except Government and Government Enterprises)                2\n",
       "Educational Services                                                         2\n",
       "Management of Companies and Enterprises                                      1\n",
       "Professional, Scientific, and Technical Services                             1\n",
       "Transportation and Warehousing                                               1\n",
       "Wholesale Trade                                                              1\n",
       "Administrative and Support and Waste Management and Remediation Services     1\n",
       "Educational Services, Health Care, and Social Assistance                     1\n",
       "All Industries (Total)                                                       1\n",
       "Finance, Insurance, Real Estate, Rental, and Leasing                         1\n",
       "Real Estate and Rental and Leasing                                           1\n",
       "Information                                                                  1\n",
       "dtype: int64"
      ]
     },
     "execution_count": 92,
     "metadata": {},
     "output_type": "execute_result"
    }
   ],
   "source": [
    "max_counts"
   ]
  },
  {
   "cell_type": "code",
   "execution_count": 93,
   "id": "b1f2ecf0",
   "metadata": {},
   "outputs": [],
   "source": [
    "import matplotlib.pyplot as plt"
   ]
  },
  {
   "cell_type": "code",
   "execution_count": 94,
   "id": "81eb43e5",
   "metadata": {},
   "outputs": [
    {
     "data": {
      "image/png": "[encoded data removed]",
      "text/plain": [
       "<Figure size 864x864 with 1 Axes>"
      ]
     },
     "metadata": {
      "needs_background": "light"
     },
     "output_type": "display_data"
    }
   ],
   "source": [
    "# count the main industry contributed to county's GDP in Virginia.\n",
    "plt.figure(figsize=(12,12))\n",
    "max_counts.plot(kind='barh',alpha=0.5)\n",
    "plt.xlabel(\"# of Counties\")\n",
    "plt.show()"
   ]
  },
  {
   "cell_type": "markdown",
   "id": "2a4ae2bb",
   "metadata": {},
   "source": [
    "#### Using the Poverty Feature Layer."
   ]
  },
  {
   "cell_type": "code",
   "execution_count": 95,
   "id": "c9f79948",
   "metadata": {},
   "outputs": [
    {
     "data": {
      "text/html": [
       "<div>\n",
       "<style scoped>\n",
       "    .dataframe tbody tr th:only-of-type {\n",
       "        vertical-align: middle;\n",
       "    }\n",
       "\n",
       "    .dataframe tbody tr th {\n",
       "        vertical-align: top;\n",
       "    }\n",
       "\n",
       "    .dataframe thead th {\n",
       "        text-align: right;\n",
       "    }\n",
       "</style>\n",
       "<table border=\"1\" class=\"dataframe\">\n",
       "  <thead>\n",
       "    <tr style=\"text-align: right;\">\n",
       "      <th></th>\n",
       "      <th>OBJECTID</th>\n",
       "      <th>CNTYNAME</th>\n",
       "      <th>STATE_NAME</th>\n",
       "      <th>households_blwpvty</th>\n",
       "      <th>total_households</th>\n",
       "      <th>SqMiles</th>\n",
       "      <th>Shape__Area</th>\n",
       "      <th>Shape__Length</th>\n",
       "      <th>SHAPE</th>\n",
       "    </tr>\n",
       "  </thead>\n",
       "  <tbody>\n",
       "    <tr>\n",
       "      <th>0</th>\n",
       "      <td>1</td>\n",
       "      <td>Lee</td>\n",
       "      <td>Virginia</td>\n",
       "      <td>2385</td>\n",
       "      <td>9282</td>\n",
       "      <td>681.656585</td>\n",
       "      <td>1.765490e+09</td>\n",
       "      <td>259642.587040</td>\n",
       "      <td>{\"rings\": [[[-9225986.8565, 4424240.1496], [-9...</td>\n",
       "    </tr>\n",
       "    <tr>\n",
       "      <th>1</th>\n",
       "      <td>2</td>\n",
       "      <td>Scott</td>\n",
       "      <td>Virginia</td>\n",
       "      <td>1766</td>\n",
       "      <td>9104</td>\n",
       "      <td>840.064740</td>\n",
       "      <td>2.175766e+09</td>\n",
       "      <td>216369.082085</td>\n",
       "      <td>{\"rings\": [[[-9214059.8582, 4411249.2391], [-9...</td>\n",
       "    </tr>\n",
       "    <tr>\n",
       "      <th>2</th>\n",
       "      <td>3</td>\n",
       "      <td>Norton</td>\n",
       "      <td>Virginia</td>\n",
       "      <td>610</td>\n",
       "      <td>1853</td>\n",
       "      <td>11.738998</td>\n",
       "      <td>3.040399e+07</td>\n",
       "      <td>39404.251193</td>\n",
       "      <td>{\"rings\": [[[-9201762.1784, 4427835.9447], [-9...</td>\n",
       "    </tr>\n",
       "    <tr>\n",
       "      <th>3</th>\n",
       "      <td>4</td>\n",
       "      <td>Wise</td>\n",
       "      <td>Virginia</td>\n",
       "      <td>3354</td>\n",
       "      <td>15229</td>\n",
       "      <td>636.004442</td>\n",
       "      <td>1.647251e+09</td>\n",
       "      <td>280284.817849</td>\n",
       "      <td>{\"rings\": [[[-9200210.9219, 4426987.1719], [-9...</td>\n",
       "    </tr>\n",
       "    <tr>\n",
       "      <th>4</th>\n",
       "      <td>5</td>\n",
       "      <td>Russell</td>\n",
       "      <td>Virginia</td>\n",
       "      <td>1971</td>\n",
       "      <td>10919</td>\n",
       "      <td>747.642047</td>\n",
       "      <td>1.936392e+09</td>\n",
       "      <td>249027.028653</td>\n",
       "      <td>{\"rings\": [[[-9146273.0763, 4444642.6007], [-9...</td>\n",
       "    </tr>\n",
       "  </tbody>\n",
       "</table>\n",
       "</div>"
      ],
      "text/plain": [
       "   OBJECTID CNTYNAME STATE_NAME  households_blwpvty  total_households  \\\n",
       "0         1      Lee   Virginia                2385              9282   \n",
       "1         2    Scott   Virginia                1766              9104   \n",
       "2         3   Norton   Virginia                 610              1853   \n",
       "3         4     Wise   Virginia                3354             15229   \n",
       "4         5  Russell   Virginia                1971             10919   \n",
       "\n",
       "      SqMiles   Shape__Area  Shape__Length  \\\n",
       "0  681.656585  1.765490e+09  259642.587040   \n",
       "1  840.064740  2.175766e+09  216369.082085   \n",
       "2   11.738998  3.040399e+07   39404.251193   \n",
       "3  636.004442  1.647251e+09  280284.817849   \n",
       "4  747.642047  1.936392e+09  249027.028653   \n",
       "\n",
       "                                               SHAPE  \n",
       "0  {\"rings\": [[[-9225986.8565, 4424240.1496], [-9...  \n",
       "1  {\"rings\": [[[-9214059.8582, 4411249.2391], [-9...  \n",
       "2  {\"rings\": [[[-9201762.1784, 4427835.9447], [-9...  \n",
       "3  {\"rings\": [[[-9200210.9219, 4426987.1719], [-9...  \n",
       "4  {\"rings\": [[[-9146273.0763, 4444642.6007], [-9...  "
      ]
     },
     "execution_count": 95,
     "metadata": {},
     "output_type": "execute_result"
    }
   ],
   "source": [
    "poverty_df.head()"
   ]
  },
  {
   "cell_type": "code",
   "execution_count": 99,
   "id": "df0b594b",
   "metadata": {},
   "outputs": [],
   "source": [
    "poverty_df[\"poverty_pct\"] = (poverty_df[\"households_blwpvty\"]/poverty_df[\"total_households\"])*100"
   ]
  },
  {
   "cell_type": "code",
   "execution_count": 100,
   "id": "3c0cdb5a",
   "metadata": {},
   "outputs": [
    {
     "data": {
      "text/html": [
       "<div>\n",
       "<style scoped>\n",
       "    .dataframe tbody tr th:only-of-type {\n",
       "        vertical-align: middle;\n",
       "    }\n",
       "\n",
       "    .dataframe tbody tr th {\n",
       "        vertical-align: top;\n",
       "    }\n",
       "\n",
       "    .dataframe thead th {\n",
       "        text-align: right;\n",
       "    }\n",
       "</style>\n",
       "<table border=\"1\" class=\"dataframe\">\n",
       "  <thead>\n",
       "    <tr style=\"text-align: right;\">\n",
       "      <th></th>\n",
       "      <th>OBJECTID</th>\n",
       "      <th>CNTYNAME</th>\n",
       "      <th>STATE_NAME</th>\n",
       "      <th>households_blwpvty</th>\n",
       "      <th>total_households</th>\n",
       "      <th>SqMiles</th>\n",
       "      <th>Shape__Area</th>\n",
       "      <th>Shape__Length</th>\n",
       "      <th>SHAPE</th>\n",
       "      <th>poverty_pct</th>\n",
       "    </tr>\n",
       "  </thead>\n",
       "  <tbody>\n",
       "    <tr>\n",
       "      <th>0</th>\n",
       "      <td>1</td>\n",
       "      <td>Lee</td>\n",
       "      <td>Virginia</td>\n",
       "      <td>2385</td>\n",
       "      <td>9282</td>\n",
       "      <td>681.656585</td>\n",
       "      <td>1.765490e+09</td>\n",
       "      <td>259642.587040</td>\n",
       "      <td>{\"rings\": [[[-9225986.8565, 4424240.1496], [-9...</td>\n",
       "      <td>25.694893</td>\n",
       "    </tr>\n",
       "    <tr>\n",
       "      <th>1</th>\n",
       "      <td>2</td>\n",
       "      <td>Scott</td>\n",
       "      <td>Virginia</td>\n",
       "      <td>1766</td>\n",
       "      <td>9104</td>\n",
       "      <td>840.064740</td>\n",
       "      <td>2.175766e+09</td>\n",
       "      <td>216369.082085</td>\n",
       "      <td>{\"rings\": [[[-9214059.8582, 4411249.2391], [-9...</td>\n",
       "      <td>19.398067</td>\n",
       "    </tr>\n",
       "    <tr>\n",
       "      <th>2</th>\n",
       "      <td>3</td>\n",
       "      <td>Norton</td>\n",
       "      <td>Virginia</td>\n",
       "      <td>610</td>\n",
       "      <td>1853</td>\n",
       "      <td>11.738998</td>\n",
       "      <td>3.040399e+07</td>\n",
       "      <td>39404.251193</td>\n",
       "      <td>{\"rings\": [[[-9201762.1784, 4427835.9447], [-9...</td>\n",
       "      <td>32.919590</td>\n",
       "    </tr>\n",
       "    <tr>\n",
       "      <th>3</th>\n",
       "      <td>4</td>\n",
       "      <td>Wise</td>\n",
       "      <td>Virginia</td>\n",
       "      <td>3354</td>\n",
       "      <td>15229</td>\n",
       "      <td>636.004442</td>\n",
       "      <td>1.647251e+09</td>\n",
       "      <td>280284.817849</td>\n",
       "      <td>{\"rings\": [[[-9200210.9219, 4426987.1719], [-9...</td>\n",
       "      <td>22.023770</td>\n",
       "    </tr>\n",
       "    <tr>\n",
       "      <th>4</th>\n",
       "      <td>5</td>\n",
       "      <td>Russell</td>\n",
       "      <td>Virginia</td>\n",
       "      <td>1971</td>\n",
       "      <td>10919</td>\n",
       "      <td>747.642047</td>\n",
       "      <td>1.936392e+09</td>\n",
       "      <td>249027.028653</td>\n",
       "      <td>{\"rings\": [[[-9146273.0763, 4444642.6007], [-9...</td>\n",
       "      <td>18.051104</td>\n",
       "    </tr>\n",
       "  </tbody>\n",
       "</table>\n",
       "</div>"
      ],
      "text/plain": [
       "   OBJECTID CNTYNAME STATE_NAME  households_blwpvty  total_households  \\\n",
       "0         1      Lee   Virginia                2385              9282   \n",
       "1         2    Scott   Virginia                1766              9104   \n",
       "2         3   Norton   Virginia                 610              1853   \n",
       "3         4     Wise   Virginia                3354             15229   \n",
       "4         5  Russell   Virginia                1971             10919   \n",
       "\n",
       "      SqMiles   Shape__Area  Shape__Length  \\\n",
       "0  681.656585  1.765490e+09  259642.587040   \n",
       "1  840.064740  2.175766e+09  216369.082085   \n",
       "2   11.738998  3.040399e+07   39404.251193   \n",
       "3  636.004442  1.647251e+09  280284.817849   \n",
       "4  747.642047  1.936392e+09  249027.028653   \n",
       "\n",
       "                                               SHAPE  poverty_pct  \n",
       "0  {\"rings\": [[[-9225986.8565, 4424240.1496], [-9...    25.694893  \n",
       "1  {\"rings\": [[[-9214059.8582, 4411249.2391], [-9...    19.398067  \n",
       "2  {\"rings\": [[[-9201762.1784, 4427835.9447], [-9...    32.919590  \n",
       "3  {\"rings\": [[[-9200210.9219, 4426987.1719], [-9...    22.023770  \n",
       "4  {\"rings\": [[[-9146273.0763, 4444642.6007], [-9...    18.051104  "
      ]
     },
     "execution_count": 100,
     "metadata": {},
     "output_type": "execute_result"
    }
   ],
   "source": [
    "poverty_df.head()"
   ]
  },
  {
   "cell_type": "code",
   "execution_count": 102,
   "id": "e66353d3",
   "metadata": {},
   "outputs": [
    {
     "data": {
      "image/png": "[encoded data removed]",
      "text/plain": [
       "<Figure size 720x504 with 1 Axes>"
      ]
     },
     "metadata": {
      "needs_background": "light"
     },
     "output_type": "display_data"
    }
   ],
   "source": [
    "plt.figure(figsize=(10,7))\n",
    "plt.hist(poverty_df[\"poverty_pct\"], alpha=0.5)\n",
    "plt.xlabel(\"Poverty Percentage\")\n",
    "plt.ylabel(\"Frequency\")\n",
    "plt.show()"
   ]
  },
  {
   "cell_type": "code",
   "execution_count": 104,
   "id": "60acd201",
   "metadata": {},
   "outputs": [],
   "source": [
    "poverty_df.sort_values(\"poverty_pct\",inplace=True)"
   ]
  },
  {
   "cell_type": "markdown",
   "id": "ff97beb7",
   "metadata": {},
   "source": [
    "This dataframe shows 5 counties with the lower poverty percentages."
   ]
  },
  {
   "cell_type": "code",
   "execution_count": 107,
   "id": "3e7c3abc",
   "metadata": {},
   "outputs": [
    {
     "data": {
      "text/html": [
       "<div>\n",
       "<style scoped>\n",
       "    .dataframe tbody tr th:only-of-type {\n",
       "        vertical-align: middle;\n",
       "    }\n",
       "\n",
       "    .dataframe tbody tr th {\n",
       "        vertical-align: top;\n",
       "    }\n",
       "\n",
       "    .dataframe thead th {\n",
       "        text-align: right;\n",
       "    }\n",
       "</style>\n",
       "<table border=\"1\" class=\"dataframe\">\n",
       "  <thead>\n",
       "    <tr style=\"text-align: right;\">\n",
       "      <th></th>\n",
       "      <th>CNTYNAME</th>\n",
       "      <th>poverty_pct</th>\n",
       "    </tr>\n",
       "  </thead>\n",
       "  <tbody>\n",
       "    <tr>\n",
       "      <th>126</th>\n",
       "      <td>Falls Church</td>\n",
       "      <td>2.905112</td>\n",
       "    </tr>\n",
       "    <tr>\n",
       "      <th>130</th>\n",
       "      <td>Loudoun</td>\n",
       "      <td>3.938568</td>\n",
       "    </tr>\n",
       "    <tr>\n",
       "      <th>104</th>\n",
       "      <td>Stafford</td>\n",
       "      <td>4.459389</td>\n",
       "    </tr>\n",
       "    <tr>\n",
       "      <th>62</th>\n",
       "      <td>Poquoson</td>\n",
       "      <td>5.055327</td>\n",
       "    </tr>\n",
       "    <tr>\n",
       "      <th>89</th>\n",
       "      <td>Goochland</td>\n",
       "      <td>5.270882</td>\n",
       "    </tr>\n",
       "  </tbody>\n",
       "</table>\n",
       "</div>"
      ],
      "text/plain": [
       "         CNTYNAME  poverty_pct\n",
       "126  Falls Church     2.905112\n",
       "130       Loudoun     3.938568\n",
       "104      Stafford     4.459389\n",
       "62       Poquoson     5.055327\n",
       "89      Goochland     5.270882"
      ]
     },
     "execution_count": 107,
     "metadata": {},
     "output_type": "execute_result"
    }
   ],
   "source": [
    "poverty_df[[\"CNTYNAME\",\"poverty_pct\"]].head()"
   ]
  },
  {
   "cell_type": "code",
   "execution_count": 108,
   "id": "cd075d60",
   "metadata": {},
   "outputs": [],
   "source": [
    "poverty_df.sort_values(\"poverty_pct\",inplace=True, ascending=False)"
   ]
  },
  {
   "cell_type": "markdown",
   "id": "dce66527",
   "metadata": {},
   "source": [
    "This dataframe shows 5 counties with the highest poverty percentages."
   ]
  },
  {
   "cell_type": "code",
   "execution_count": 109,
   "id": "8102f3e0",
   "metadata": {},
   "outputs": [
    {
     "data": {
      "text/html": [
       "<div>\n",
       "<style scoped>\n",
       "    .dataframe tbody tr th:only-of-type {\n",
       "        vertical-align: middle;\n",
       "    }\n",
       "\n",
       "    .dataframe tbody tr th {\n",
       "        vertical-align: top;\n",
       "    }\n",
       "\n",
       "    .dataframe thead th {\n",
       "        text-align: right;\n",
       "    }\n",
       "</style>\n",
       "<table border=\"1\" class=\"dataframe\">\n",
       "  <thead>\n",
       "    <tr style=\"text-align: right;\">\n",
       "      <th></th>\n",
       "      <th>CNTYNAME</th>\n",
       "      <th>poverty_pct</th>\n",
       "    </tr>\n",
       "  </thead>\n",
       "  <tbody>\n",
       "    <tr>\n",
       "      <th>18</th>\n",
       "      <td>Radford</td>\n",
       "      <td>35.260528</td>\n",
       "    </tr>\n",
       "    <tr>\n",
       "      <th>2</th>\n",
       "      <td>Norton</td>\n",
       "      <td>32.919590</td>\n",
       "    </tr>\n",
       "    <tr>\n",
       "      <th>44</th>\n",
       "      <td>Emporia</td>\n",
       "      <td>31.266968</td>\n",
       "    </tr>\n",
       "    <tr>\n",
       "      <th>17</th>\n",
       "      <td>Galax</td>\n",
       "      <td>26.763110</td>\n",
       "    </tr>\n",
       "    <tr>\n",
       "      <th>46</th>\n",
       "      <td>Petersburg</td>\n",
       "      <td>26.727411</td>\n",
       "    </tr>\n",
       "  </tbody>\n",
       "</table>\n",
       "</div>"
      ],
      "text/plain": [
       "      CNTYNAME  poverty_pct\n",
       "18     Radford    35.260528\n",
       "2       Norton    32.919590\n",
       "44     Emporia    31.266968\n",
       "17       Galax    26.763110\n",
       "46  Petersburg    26.727411"
      ]
     },
     "execution_count": 109,
     "metadata": {},
     "output_type": "execute_result"
    }
   ],
   "source": [
    "poverty_df[[\"CNTYNAME\",\"poverty_pct\"]].head()"
   ]
  },
  {
   "cell_type": "code",
   "execution_count": 110,
   "id": "b322c314",
   "metadata": {},
   "outputs": [
    {
     "data": {
      "image/png": "[encoded data removed]",
      "text/plain": [
       "<Figure size 720x504 with 1 Axes>"
      ]
     },
     "metadata": {
      "needs_background": "light"
     },
     "output_type": "display_data"
    }
   ],
   "source": [
    "plt.figure(figsize=(10,7))\n",
    "plt.hist(poverty_df[\"SqMiles\"], alpha=0.5)\n",
    "plt.xlabel(\"County Area (Square Miles)\")\n",
    "plt.ylabel(\"Frequency\")\n",
    "plt.show()"
   ]
  },
  {
   "cell_type": "code",
   "execution_count": null,
   "id": "af45b4cb",
   "metadata": {},
   "outputs": [],
   "source": []
  }
 ],
 "metadata": {
  "kernelspec": {
   "display_name": "Python 3",
   "language": "python",
   "name": "python3"
  },
  "language_info": {
   "codemirror_mode": {
    "name": "ipython",
    "version": 3
   },
   "file_extension": ".py",
   "mimetype": "text/x-python",
   "name": "python",
   "nbconvert_exporter": "python",
   "pygments_lexer": "ipython3",
   "version": "3.8.8"
  }
 },
 "nbformat": 4,
 "nbformat_minor": 5
}
